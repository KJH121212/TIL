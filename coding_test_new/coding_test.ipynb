{
 "cells": [
  {
   "cell_type": "markdown",
   "metadata": {},
   "source": [
    "# 자료구조\n",
    "## 배열 (Array)\n",
    "데이터를 나열하고, 각 데이터를 **인덱스**에 대응하도록 구성한 데이터 구조\n",
    "파이썬에서는 리스트가 배열을 대체하고 있음. \n",
    "\n",
    "### 배열이 필요한 이유\n",
    "같은 종류의 데이터를 **순차적으로 저장하여** 효율적으로 관리할 수 있음.\n",
    "\n",
    "### 배열의 장점 및 단점\n",
    "1. 빠른 접근이 가능하다. (index만 알면 바로 원하는 데이터를 찾을 수 있음)\n",
    "\n",
    "#"
   ]
  },
  {
   "cell_type": "code",
   "execution_count": null,
   "metadata": {},
   "outputs": [],
   "source": []
  }
 ],
 "metadata": {
  "kernelspec": {
   "display_name": "KJH",
   "language": "python",
   "name": "python3"
  },
  "language_info": {
   "name": "python",
   "version": "3.10.13"
  }
 },
 "nbformat": 4,
 "nbformat_minor": 2
}
