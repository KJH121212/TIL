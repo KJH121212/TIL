{
 "cells": [
  {
   "cell_type": "code",
   "execution_count": 2,
   "id": "61987684-9d30-4bce-be86-7da38a4cefbb",
   "metadata": {},
   "outputs": [],
   "source": [
    "# 패키지 불러오기\n",
    "import numpy as np\n",
    "import pandas as pd\n",
    "# k-means clustering 구현을 위한 sklearn 패키지 내 함수 불러오기\n",
    "from sklearn import datasets\n",
    "from sklearn.preprocessing import MinMaxScaler\n",
    "from sklearn.metrics import pairwise_distances\n",
    "from sklearn.cluster import KMeans\n",
    "# 시각화 패키지 불러오기\n",
    "import matplotlib.pyplot as plt\n",
    "import plotly.express as px"
   ]
  },
  {
   "cell_type": "code",
   "execution_count": 3,
   "id": "e588fb02-fccd-4f0e-b0a4-1892de8b2a50",
   "metadata": {},
   "outputs": [
    {
     "name": "stdout",
     "output_type": "stream",
     "text": [
      "(150, 4)\n",
      "(150,)\n"
     ]
    }
   ],
   "source": [
    "# 데이터 불러오기\n",
    "iris = datasets.load_iris()\n",
    "\n",
    "# 인풋, 아웃풋을 X, y변수로 할당\n",
    "X = iris.data\n",
    "y = iris.target\n",
    "\n",
    "# 대략적인 샘플 수, 피쳐 수를 확인\n",
    "print(X.shape)\n",
    "print(y.shape)"
   ]
  },
  {
   "cell_type": "code",
   "execution_count": 4,
   "id": "fd5ef2d7-8acc-43e3-8e8d-a9de408553ca",
   "metadata": {},
   "outputs": [],
   "source": [
    "# 분석에 사용할 첫 두개 피쳐만을 선택\n",
    "X = X[:, :2]"
   ]
  },
  {
   "cell_type": "markdown",
   "id": "f972ce7e-c57c-4a7f-9df2-b4d115d87899",
   "metadata": {},
   "source": [
    "K-mean clustering은 거리의 개념을 사용하기 때문에, 피쳐간 변동의 스케일이 다른 경우 문제가 생길 수 있다.  \n",
    "예를 들어 하나 변수는 0~1범위에서 변동이 있는데 다른 변수는 수백 ~ 수천 단위의 범위로 변동이 있을 경우 전자의 변수가 고려가 되지 않을 것이다.  \n",
    "따라서 min-max scaling방식의 표준화 전처리를 적용하여 보겟다."
   ]
  },
  {
   "cell_type": "code",
   "execution_count": 5,
   "id": "cf49a0a2-626d-46d7-8373-ccc71f3a8c9c",
   "metadata": {},
   "outputs": [],
   "source": [
    "# min-max scaling을 이용해 정규화하기\n",
    "scaler = MinMaxScaler()\n",
    "X = scaler.fit_transform(X)"
   ]
  },
  {
   "cell_type": "code",
   "execution_count": null,
   "id": "515500ff-6ff3-4c0b-aecd-c13ec6e36312",
   "metadata": {},
   "outputs": [],
   "source": []
  }
 ],
 "metadata": {
  "kernelspec": {
   "display_name": "Fastcampus",
   "language": "python",
   "name": "fastcampus"
  },
  "language_info": {
   "codemirror_mode": {
    "name": "ipython",
    "version": 3
   },
   "file_extension": ".py",
   "mimetype": "text/x-python",
   "name": "python",
   "nbconvert_exporter": "python",
   "pygments_lexer": "ipython3",
   "version": "3.11.9"
  }
 },
 "nbformat": 4,
 "nbformat_minor": 5
}
