{
 "cells": [
  {
   "cell_type": "markdown",
   "id": "ee2c18c3-338b-4313-a074-ecb7a45ffc79",
   "metadata": {},
   "source": [
    "# 해당 파일은 Fastcampus 훈련 자료 내 코드에 개인 주석을 단 파일입니다."
   ]
  },
  {
   "cell_type": "markdown",
   "id": "c6c1363c-92e2-40b1-a102-09553b51d0fe",
   "metadata": {},
   "source": [
    "### 실습 데이터셋\n",
    "* 데이터셋: Diabetes Data\n",
    "* 데이터셋 개요 :\n",
    "첫번째 회귀 모델링 방법론 실습은 sklearn에서 제공하는 당뇨병 진행도 예측 데이터셋을 활용합니다.\n",
    "이 데이터셋은 총 442개의 샘플을 포함하며, 각 샘플은 다음과 같은 10개의 인풋 피쳐로 구성됩니다.\n",
    "  - age: 나이\n",
    "  - sex: 성별\n",
    "  - bmi: Body mass index\n",
    "  - bp: Average blood pressure\n",
    "  - 혈청에 대한 6가지 지표들(S1, S2, S3, S4, S5, S6)\n",
    "\n",
    "  데이터셋의 target은 다른 피쳐들의 측정 시점으로부터 1년 후 당뇨병이 진행된 정도를 나타내는 수치로 주어지는데, 이 실습에서는 선형회귀모델을 학습해 target값을 예측해보도록 합니다.\n",
    "* 데이터셋 저작권 : BSD License\n",
    "\n"
   ]
  },
  {
   "cell_type": "code",
   "execution_count": 16,
   "id": "249bbd43-8e85-43cc-9c7d-c31a3ef0f2d2",
   "metadata": {},
   "outputs": [],
   "source": [
    "# 데이터 관련 기본 라이브러리 (이 3개는 무엇을 하든 무조건 쓸듯)\n",
    "import pandas as pd\n",
    "import numpy as np\n",
    "import matplotlib.pyplot as plt\n",
    "\n",
    "# 추가적인 데이터 시각화 라이브러리\n",
    "import seaborn as sns\n",
    "\n",
    "# 데이터셋 import 함수\n",
    "from sklearn.datasets import load_diabetes\n",
    "\n",
    "# data를 train/validation/test로 나누어 주는 함수\n",
    "from sklearn.model_selection import train_test_split\n",
    "\n",
    "# 선형 회귀 모델 함수\n",
    "from sklearn.linear_model import LinearRegression\n",
    "\n",
    "# MSE 구하는 함수추가\n",
    "from sklearn.metrics import mean_squared_error"
   ]
  },
  {
   "cell_type": "code",
   "execution_count": 17,
   "id": "c60d0c38-b2d1-4580-80d6-2d3a6d53e736",
   "metadata": {},
   "outputs": [
    {
     "name": "stdout",
     "output_type": "stream",
     "text": [
      ".. _diabetes_dataset:\n",
      "\n",
      "Diabetes dataset\n",
      "----------------\n",
      "\n",
      "Ten baseline variables, age, sex, body mass index, average blood\n",
      "pressure, and six blood serum measurements were obtained for each of n =\n",
      "442 diabetes patients, as well as the response of interest, a\n",
      "quantitative measure of disease progression one year after baseline.\n",
      "\n",
      "**Data Set Characteristics:**\n",
      "\n",
      ":Number of Instances: 442\n",
      "\n",
      ":Number of Attributes: First 10 columns are numeric predictive values\n",
      "\n",
      ":Target: Column 11 is a quantitative measure of disease progression one year after baseline\n",
      "\n",
      ":Attribute Information:\n",
      "    - age     age in years\n",
      "    - sex\n",
      "    - bmi     body mass index\n",
      "    - bp      average blood pressure\n",
      "    - s1      tc, total serum cholesterol\n",
      "    - s2      ldl, low-density lipoproteins\n",
      "    - s3      hdl, high-density lipoproteins\n",
      "    - s4      tch, total cholesterol / HDL\n",
      "    - s5      ltg, possibly log of serum triglycerides level\n",
      "    - s6      glu, blood sugar level\n",
      "\n",
      "Note: Each of these 10 feature variables have been mean centered and scaled by the standard deviation times the square root of `n_samples` (i.e. the sum of squares of each column totals 1).\n",
      "\n",
      "Source URL:\n",
      "https://www4.stat.ncsu.edu/~boos/var.select/diabetes.html\n",
      "\n",
      "For more information see:\n",
      "Bradley Efron, Trevor Hastie, Iain Johnstone and Robert Tibshirani (2004) \"Least Angle Regression,\" Annals of Statistics (with discussion), 407-499.\n",
      "(https://web.stanford.edu/~hastie/Papers/LARS/LeastAngle_2002.pdf)\n",
      "\n"
     ]
    }
   ],
   "source": [
    "# 데이터 셋 로드\n",
    "diabetes = load_diabetes(scaled=False)\n",
    "#scaled : bool, default=True\n",
    "#     If True, the feature variables are mean centered and scaled by the\n",
    "#     standard deviation times the square root of `n_samples`.\n",
    "#     If False, raw data is returned for the feature variables.\n",
    "# 대충 표준화? 같은거 안하고 그냥 생 data 받고 싶기 때문에 scaled = False를 쓴듯.\n",
    "\n",
    "# 데이터셋의 설명(Description) 확인\n",
    "print(diabetes[\"DESCR\"])"
   ]
  },
  {
   "cell_type": "markdown",
   "id": "4bc94108-996b-49c6-919d-e8b2d4b7ab7e",
   "metadata": {},
   "source": [
    "Target: Column 11 is a quantitative measure of disease progression one year after baseline  \n",
    "라는 줄을 통해 label이 되어 있는 것은 Target으로 명명 된 것을 확인 할 수 있고, 환자의 대한 정보는 Attribute Information을 통해 알 수 있다."
   ]
  },
  {
   "cell_type": "code",
   "execution_count": 18,
   "id": "20663b18-10ca-4750-8202-384fee9c12c2",
   "metadata": {},
   "outputs": [],
   "source": [
    "# 데이터 처리가 편한 pandas로 data 옮겨주기\n",
    "data = diabetes[\"data\"]   # 분석에 필요한 정보만 가져오기 (DESCR 같은거 제외)\n",
    "data = pd.DataFrame(data, columns=diabetes[\"feature_names\"])"
   ]
  },
  {
   "cell_type": "code",
   "execution_count": 19,
   "id": "4f801b81-5eac-4af2-bda0-911fbdad6bcf",
   "metadata": {},
   "outputs": [
    {
     "data": {
      "text/html": [
       "<div>\n",
       "<style scoped>\n",
       "    .dataframe tbody tr th:only-of-type {\n",
       "        vertical-align: middle;\n",
       "    }\n",
       "\n",
       "    .dataframe tbody tr th {\n",
       "        vertical-align: top;\n",
       "    }\n",
       "\n",
       "    .dataframe thead th {\n",
       "        text-align: right;\n",
       "    }\n",
       "</style>\n",
       "<table border=\"1\" class=\"dataframe\">\n",
       "  <thead>\n",
       "    <tr style=\"text-align: right;\">\n",
       "      <th></th>\n",
       "      <th>age</th>\n",
       "      <th>sex</th>\n",
       "      <th>bmi</th>\n",
       "      <th>bp</th>\n",
       "      <th>s1</th>\n",
       "      <th>s2</th>\n",
       "      <th>s3</th>\n",
       "      <th>s4</th>\n",
       "      <th>s5</th>\n",
       "      <th>s6</th>\n",
       "    </tr>\n",
       "  </thead>\n",
       "  <tbody>\n",
       "    <tr>\n",
       "      <th>0</th>\n",
       "      <td>59.0</td>\n",
       "      <td>2.0</td>\n",
       "      <td>32.1</td>\n",
       "      <td>101.00</td>\n",
       "      <td>157.0</td>\n",
       "      <td>93.2</td>\n",
       "      <td>38.0</td>\n",
       "      <td>4.00</td>\n",
       "      <td>4.8598</td>\n",
       "      <td>87.0</td>\n",
       "    </tr>\n",
       "    <tr>\n",
       "      <th>1</th>\n",
       "      <td>48.0</td>\n",
       "      <td>1.0</td>\n",
       "      <td>21.6</td>\n",
       "      <td>87.00</td>\n",
       "      <td>183.0</td>\n",
       "      <td>103.2</td>\n",
       "      <td>70.0</td>\n",
       "      <td>3.00</td>\n",
       "      <td>3.8918</td>\n",
       "      <td>69.0</td>\n",
       "    </tr>\n",
       "    <tr>\n",
       "      <th>2</th>\n",
       "      <td>72.0</td>\n",
       "      <td>2.0</td>\n",
       "      <td>30.5</td>\n",
       "      <td>93.00</td>\n",
       "      <td>156.0</td>\n",
       "      <td>93.6</td>\n",
       "      <td>41.0</td>\n",
       "      <td>4.00</td>\n",
       "      <td>4.6728</td>\n",
       "      <td>85.0</td>\n",
       "    </tr>\n",
       "    <tr>\n",
       "      <th>3</th>\n",
       "      <td>24.0</td>\n",
       "      <td>1.0</td>\n",
       "      <td>25.3</td>\n",
       "      <td>84.00</td>\n",
       "      <td>198.0</td>\n",
       "      <td>131.4</td>\n",
       "      <td>40.0</td>\n",
       "      <td>5.00</td>\n",
       "      <td>4.8903</td>\n",
       "      <td>89.0</td>\n",
       "    </tr>\n",
       "    <tr>\n",
       "      <th>4</th>\n",
       "      <td>50.0</td>\n",
       "      <td>1.0</td>\n",
       "      <td>23.0</td>\n",
       "      <td>101.00</td>\n",
       "      <td>192.0</td>\n",
       "      <td>125.4</td>\n",
       "      <td>52.0</td>\n",
       "      <td>4.00</td>\n",
       "      <td>4.2905</td>\n",
       "      <td>80.0</td>\n",
       "    </tr>\n",
       "    <tr>\n",
       "      <th>...</th>\n",
       "      <td>...</td>\n",
       "      <td>...</td>\n",
       "      <td>...</td>\n",
       "      <td>...</td>\n",
       "      <td>...</td>\n",
       "      <td>...</td>\n",
       "      <td>...</td>\n",
       "      <td>...</td>\n",
       "      <td>...</td>\n",
       "      <td>...</td>\n",
       "    </tr>\n",
       "    <tr>\n",
       "      <th>437</th>\n",
       "      <td>60.0</td>\n",
       "      <td>2.0</td>\n",
       "      <td>28.2</td>\n",
       "      <td>112.00</td>\n",
       "      <td>185.0</td>\n",
       "      <td>113.8</td>\n",
       "      <td>42.0</td>\n",
       "      <td>4.00</td>\n",
       "      <td>4.9836</td>\n",
       "      <td>93.0</td>\n",
       "    </tr>\n",
       "    <tr>\n",
       "      <th>438</th>\n",
       "      <td>47.0</td>\n",
       "      <td>2.0</td>\n",
       "      <td>24.9</td>\n",
       "      <td>75.00</td>\n",
       "      <td>225.0</td>\n",
       "      <td>166.0</td>\n",
       "      <td>42.0</td>\n",
       "      <td>5.00</td>\n",
       "      <td>4.4427</td>\n",
       "      <td>102.0</td>\n",
       "    </tr>\n",
       "    <tr>\n",
       "      <th>439</th>\n",
       "      <td>60.0</td>\n",
       "      <td>2.0</td>\n",
       "      <td>24.9</td>\n",
       "      <td>99.67</td>\n",
       "      <td>162.0</td>\n",
       "      <td>106.6</td>\n",
       "      <td>43.0</td>\n",
       "      <td>3.77</td>\n",
       "      <td>4.1271</td>\n",
       "      <td>95.0</td>\n",
       "    </tr>\n",
       "    <tr>\n",
       "      <th>440</th>\n",
       "      <td>36.0</td>\n",
       "      <td>1.0</td>\n",
       "      <td>30.0</td>\n",
       "      <td>95.00</td>\n",
       "      <td>201.0</td>\n",
       "      <td>125.2</td>\n",
       "      <td>42.0</td>\n",
       "      <td>4.79</td>\n",
       "      <td>5.1299</td>\n",
       "      <td>85.0</td>\n",
       "    </tr>\n",
       "    <tr>\n",
       "      <th>441</th>\n",
       "      <td>36.0</td>\n",
       "      <td>1.0</td>\n",
       "      <td>19.6</td>\n",
       "      <td>71.00</td>\n",
       "      <td>250.0</td>\n",
       "      <td>133.2</td>\n",
       "      <td>97.0</td>\n",
       "      <td>3.00</td>\n",
       "      <td>4.5951</td>\n",
       "      <td>92.0</td>\n",
       "    </tr>\n",
       "  </tbody>\n",
       "</table>\n",
       "<p>442 rows × 10 columns</p>\n",
       "</div>"
      ],
      "text/plain": [
       "      age  sex   bmi      bp     s1     s2    s3    s4      s5     s6\n",
       "0    59.0  2.0  32.1  101.00  157.0   93.2  38.0  4.00  4.8598   87.0\n",
       "1    48.0  1.0  21.6   87.00  183.0  103.2  70.0  3.00  3.8918   69.0\n",
       "2    72.0  2.0  30.5   93.00  156.0   93.6  41.0  4.00  4.6728   85.0\n",
       "3    24.0  1.0  25.3   84.00  198.0  131.4  40.0  5.00  4.8903   89.0\n",
       "4    50.0  1.0  23.0  101.00  192.0  125.4  52.0  4.00  4.2905   80.0\n",
       "..    ...  ...   ...     ...    ...    ...   ...   ...     ...    ...\n",
       "437  60.0  2.0  28.2  112.00  185.0  113.8  42.0  4.00  4.9836   93.0\n",
       "438  47.0  2.0  24.9   75.00  225.0  166.0  42.0  5.00  4.4427  102.0\n",
       "439  60.0  2.0  24.9   99.67  162.0  106.6  43.0  3.77  4.1271   95.0\n",
       "440  36.0  1.0  30.0   95.00  201.0  125.2  42.0  4.79  5.1299   85.0\n",
       "441  36.0  1.0  19.6   71.00  250.0  133.2  97.0  3.00  4.5951   92.0\n",
       "\n",
       "[442 rows x 10 columns]"
      ]
     },
     "execution_count": 19,
     "metadata": {},
     "output_type": "execute_result"
    }
   ],
   "source": [
    "# 원본에는 없지만 꼭 가져온 data 전문을 한번 봐주는게 좋은 것 같음. 내가 어떻게 처리 해야할지 생각할 시간을 주는 것\n",
    "data"
   ]
  },
  {
   "cell_type": "markdown",
   "id": "9f0e6ad6-c89e-40ca-9963-15849401defc",
   "metadata": {},
   "source": [
    "# 표준화를 해야 하는 이유\n",
    "단위를 신경 쓰지 않고 비교하기 위해라고 생각하면 편하다.  \n",
    "예를들어 토익 600점이 수능영어 100점을 비교하고는 토익 600점이 영어를 더 잘한다는 소리가 나올 수 있기 때문.  "
   ]
  },
  {
   "cell_type": "code",
   "execution_count": 20,
   "id": "f68298a7-bb5d-47bf-a7b4-d7af2f08171d",
   "metadata": {},
   "outputs": [
    {
     "data": {
      "text/html": [
       "<div>\n",
       "<style scoped>\n",
       "    .dataframe tbody tr th:only-of-type {\n",
       "        vertical-align: middle;\n",
       "    }\n",
       "\n",
       "    .dataframe tbody tr th {\n",
       "        vertical-align: top;\n",
       "    }\n",
       "\n",
       "    .dataframe thead th {\n",
       "        text-align: right;\n",
       "    }\n",
       "</style>\n",
       "<table border=\"1\" class=\"dataframe\">\n",
       "  <thead>\n",
       "    <tr style=\"text-align: right;\">\n",
       "      <th></th>\n",
       "      <th>age</th>\n",
       "      <th>sex</th>\n",
       "      <th>bmi</th>\n",
       "      <th>bp</th>\n",
       "      <th>s1</th>\n",
       "      <th>s2</th>\n",
       "      <th>s3</th>\n",
       "      <th>s4</th>\n",
       "      <th>s5</th>\n",
       "      <th>s6</th>\n",
       "    </tr>\n",
       "  </thead>\n",
       "  <tbody>\n",
       "    <tr>\n",
       "      <th>count</th>\n",
       "      <td>442.000000</td>\n",
       "      <td>4.420000e+02</td>\n",
       "      <td>4.420000e+02</td>\n",
       "      <td>4.420000e+02</td>\n",
       "      <td>4.420000e+02</td>\n",
       "      <td>4.420000e+02</td>\n",
       "      <td>4.420000e+02</td>\n",
       "      <td>4.420000e+02</td>\n",
       "      <td>4.420000e+02</td>\n",
       "      <td>4.420000e+02</td>\n",
       "    </tr>\n",
       "    <tr>\n",
       "      <th>mean</th>\n",
       "      <td>0.000000</td>\n",
       "      <td>2.893613e-16</td>\n",
       "      <td>-4.694083e-15</td>\n",
       "      <td>-1.000708e-15</td>\n",
       "      <td>-2.893613e-16</td>\n",
       "      <td>8.238759e-16</td>\n",
       "      <td>-1.245861e-16</td>\n",
       "      <td>-1.527185e-16</td>\n",
       "      <td>1.945151e-15</td>\n",
       "      <td>2.531911e-16</td>\n",
       "    </tr>\n",
       "    <tr>\n",
       "      <th>std</th>\n",
       "      <td>1.000000</td>\n",
       "      <td>1.000000e+00</td>\n",
       "      <td>1.000000e+00</td>\n",
       "      <td>1.000000e+00</td>\n",
       "      <td>1.000000e+00</td>\n",
       "      <td>1.000000e+00</td>\n",
       "      <td>1.000000e+00</td>\n",
       "      <td>1.000000e+00</td>\n",
       "      <td>1.000000e+00</td>\n",
       "      <td>1.000000e+00</td>\n",
       "    </tr>\n",
       "    <tr>\n",
       "      <th>min</th>\n",
       "      <td>-2.251738</td>\n",
       "      <td>-9.374744e-01</td>\n",
       "      <td>-1.895781e+00</td>\n",
       "      <td>-2.360375e+00</td>\n",
       "      <td>-2.662394e+00</td>\n",
       "      <td>-2.427874e+00</td>\n",
       "      <td>-2.148448e+00</td>\n",
       "      <td>-1.604285e+00</td>\n",
       "      <td>-2.648040e+00</td>\n",
       "      <td>-2.893112e+00</td>\n",
       "    </tr>\n",
       "    <tr>\n",
       "      <th>25%</th>\n",
       "      <td>-0.783285</td>\n",
       "      <td>-9.374744e-01</td>\n",
       "      <td>-7.188104e-01</td>\n",
       "      <td>-7.697777e-01</td>\n",
       "      <td>-7.192046e-01</td>\n",
       "      <td>-6.375263e-01</td>\n",
       "      <td>-7.374604e-01</td>\n",
       "      <td>-8.293610e-01</td>\n",
       "      <td>-6.981574e-01</td>\n",
       "      <td>-6.967595e-01</td>\n",
       "    </tr>\n",
       "    <tr>\n",
       "      <th>50%</th>\n",
       "      <td>0.113044</td>\n",
       "      <td>-9.374744e-01</td>\n",
       "      <td>-1.529591e-01</td>\n",
       "      <td>-1.190789e-01</td>\n",
       "      <td>-9.073818e-02</td>\n",
       "      <td>-8.020037e-02</td>\n",
       "      <td>-1.382738e-01</td>\n",
       "      <td>-5.443750e-02</td>\n",
       "      <td>-4.089059e-02</td>\n",
       "      <td>-2.263165e-02</td>\n",
       "    </tr>\n",
       "    <tr>\n",
       "      <th>75%</th>\n",
       "      <td>0.799594</td>\n",
       "      <td>1.064282e+00</td>\n",
       "      <td>6.562083e-01</td>\n",
       "      <td>7.485196e-01</td>\n",
       "      <td>5.955183e-01</td>\n",
       "      <td>6.267323e-01</td>\n",
       "      <td>6.155415e-01</td>\n",
       "      <td>7.204860e-01</td>\n",
       "      <td>6.810788e-01</td>\n",
       "      <td>5.862581e-01</td>\n",
       "    </tr>\n",
       "    <tr>\n",
       "      <th>max</th>\n",
       "      <td>2.325260</td>\n",
       "      <td>1.064282e+00</td>\n",
       "      <td>3.581660e+00</td>\n",
       "      <td>2.772916e+00</td>\n",
       "      <td>3.232188e+00</td>\n",
       "      <td>4.174548e+00</td>\n",
       "      <td>3.804760e+00</td>\n",
       "      <td>3.889923e+00</td>\n",
       "      <td>2.805543e+00</td>\n",
       "      <td>2.847848e+00</td>\n",
       "    </tr>\n",
       "  </tbody>\n",
       "</table>\n",
       "</div>"
      ],
      "text/plain": [
       "              age           sex           bmi            bp            s1  \\\n",
       "count  442.000000  4.420000e+02  4.420000e+02  4.420000e+02  4.420000e+02   \n",
       "mean     0.000000  2.893613e-16 -4.694083e-15 -1.000708e-15 -2.893613e-16   \n",
       "std      1.000000  1.000000e+00  1.000000e+00  1.000000e+00  1.000000e+00   \n",
       "min     -2.251738 -9.374744e-01 -1.895781e+00 -2.360375e+00 -2.662394e+00   \n",
       "25%     -0.783285 -9.374744e-01 -7.188104e-01 -7.697777e-01 -7.192046e-01   \n",
       "50%      0.113044 -9.374744e-01 -1.529591e-01 -1.190789e-01 -9.073818e-02   \n",
       "75%      0.799594  1.064282e+00  6.562083e-01  7.485196e-01  5.955183e-01   \n",
       "max      2.325260  1.064282e+00  3.581660e+00  2.772916e+00  3.232188e+00   \n",
       "\n",
       "                 s2            s3            s4            s5            s6  \n",
       "count  4.420000e+02  4.420000e+02  4.420000e+02  4.420000e+02  4.420000e+02  \n",
       "mean   8.238759e-16 -1.245861e-16 -1.527185e-16  1.945151e-15  2.531911e-16  \n",
       "std    1.000000e+00  1.000000e+00  1.000000e+00  1.000000e+00  1.000000e+00  \n",
       "min   -2.427874e+00 -2.148448e+00 -1.604285e+00 -2.648040e+00 -2.893112e+00  \n",
       "25%   -6.375263e-01 -7.374604e-01 -8.293610e-01 -6.981574e-01 -6.967595e-01  \n",
       "50%   -8.020037e-02 -1.382738e-01 -5.443750e-02 -4.089059e-02 -2.263165e-02  \n",
       "75%    6.267323e-01  6.155415e-01  7.204860e-01  6.810788e-01  5.862581e-01  \n",
       "max    4.174548e+00  3.804760e+00  3.889923e+00  2.805543e+00  2.847848e+00  "
      ]
     },
     "execution_count": 20,
     "metadata": {},
     "output_type": "execute_result"
    }
   ],
   "source": [
    "# 표준화 방식의 전처리 적용을 위해 feature 별 평균값, 표준편차를 계산\n",
    "fts_mean = data.mean(axis=0)  # axis가 0이면 행 계산, 1이면 열계산, 차원이 높아지만 그에따라 axis 변경해줘야 함\n",
    "fts_std = data.std(axis=0)\n",
    "\n",
    "# 평균이 0, 표준편차가 1이 되도록 표준화\n",
    "data = (data - fts_mean) / fts_std\n",
    "\n",
    "# 결과 확인. 모든 변수가 평균 0, 표준편차 1로 조정된 것 확인 (완벽한 1, 0으로 바뀌지는 않을 것임.)\n",
    "data.describe()"
   ]
  },
  {
   "cell_type": "code",
   "execution_count": 21,
   "id": "4c5cf413-abd8-44ae-bbe4-93a74d757c94",
   "metadata": {},
   "outputs": [
    {
     "name": "stdout",
     "output_type": "stream",
     "text": [
      "(442,)\n",
      "Original targe values :  [151.  75. 141. 206. 135.  97. 138.  63. 110. 310.]\n",
      "Scaled target values :  [-0.01471948 -1.00165882 -0.14457991  0.69951294 -0.22249618 -0.71596585\n",
      " -0.18353805 -1.15749134 -0.54714728  2.05006151]\n",
      "Mean : -1.687940888117885e-16, std : 1.0\n"
     ]
    }
   ],
   "source": [
    "# label에 적힌 값은 1년 후 질병의 진행률을 정량적으로 측정한 값이다.\n",
    "target = diabetes[\"target\"]\n",
    "# target 변수의 모양 및 처음 10개 확인\n",
    "print(target.shape)\n",
    "print(\"Original targe values : \", target[:10])\n",
    "\n",
    "# target의 평균값, 표준편차를 계산\n",
    "tgt_mean = target.mean()\n",
    "tgt_std = target.std()\n",
    "\n",
    "# 표준화 적용\n",
    "target = (target - tgt_mean) / tgt_std\n",
    "\n",
    "# 결과 확인\n",
    "print(\"Scaled target values : \", target[:10]) # 처음 10개 표준화 된 거 확인\n",
    "print(f\"Mean : {target.mean()}, std : {target.std()}\") # 표준화된 target의 평균과 표준편차 확인"
   ]
  },
  {
   "cell_type": "code",
   "execution_count": 23,
   "id": "5ad42568-4765-4922-841b-a30f7335ead8",
   "metadata": {},
   "outputs": [
    {
     "name": "stdout",
     "output_type": "stream",
     "text": [
      "train data: (309, 10)\n",
      "train target: (309,)\n",
      "test data: (133, 10)\n",
      "test target: (133,)\n"
     ]
    }
   ],
   "source": [
    "# dataset을 train/validation/test로 분할\n",
    "# 재현성을 위해 random state를 지정\n",
    "random_state = 1111  # seed 같은 느낌이기에 어떤 숫자가 들어가도 상관 없음. rand 함수 고정용임\n",
    "\n",
    "# train_data, test_data를 7:3 비율로 분할 test_size를 변화하면 비율 변화 가능 dataset을 train/validation/test로 분할\n",
    "# 재현성을 위해 random state를 지정\n",
    "random_state = 1111  # seed 같은 느낌이기에 어떤 숫자가 들어가도 상관 없음. rand 함수 고정용임\n",
    "\n",
    "# train_data, test_data를 7:3 비율로 분할 test_size를 변화하면 비율 변화 가능\n",
    "train_data, test_data, train_target, test_target = train_test_split(data, target, test_size=0.3, random_state=random_state)\n",
    "\n",
    "# 분할 확인\n",
    "print(f\"train data: {train_data.shape}\")\n",
    "print(f\"train target: {train_target.shape}\")\n",
    "print(f\"test data: {test_data.shape}\")\n",
    "print(f\"test target: {test_target.shape}\")"
   ]
  },
  {
   "cell_type": "markdown",
   "id": "d0707a87-28ef-42ce-bebf-1e8c98c61bf6",
   "metadata": {},
   "source": [
    "## 데이터 전처리가 끝났으니 선형회귀 모델을 사용해 보자."
   ]
  },
  {
   "cell_type": "code",
   "execution_count": 24,
   "id": "786f1b34-6166-4dee-93e4-26901361d4dd",
   "metadata": {},
   "outputs": [
    {
     "name": "stdout",
     "output_type": "stream",
     "text": [
      "intercept:  -0.0017029636555825796\n",
      "coefficients:  [ 0.0102865  -0.19547942  0.34118854  0.21364359 -0.4406124   0.2252958\n",
      "  0.09358096  0.13713625  0.44288378  0.05132672]\n"
     ]
    }
   ],
   "source": [
    "# (다중) 선형회귀모델 초기화\n",
    "multi_regressor = LinearRegression()\n",
    "\n",
    "# 학습용 데이터셋을 활용해 학습 진행\n",
    "multi_regressor.fit(train_data, train_target)\n",
    "\n",
    "# 회귀식의 intercept(ax+b에서 b부분; y 절편) 확인\n",
    "# 모든 데이터 평균이 0이 되도록 전처리 했으므로 0에 가까운 값이 나와야 정상임\n",
    "print(\"intercept: \", multi_regressor.intercept_)\n",
    "# 학습된 회귀식 확인 (계수: ax+b의 a부분)\n",
    "print(\"coefficients: \", multi_regressor.coef_)"
   ]
  },
  {
   "cell_type": "code",
   "execution_count": 25,
   "id": "1d7cc68a-75f1-4021-bdda-344edca2470f",
   "metadata": {},
   "outputs": [
    {
     "name": "stdout",
     "output_type": "stream",
     "text": [
      "Train MSE: 0.48774\n",
      "Test MSE: 0.48547\n"
     ]
    }
   ],
   "source": [
    "# 학습, 평가 데이터셋에서 회귀식의 예측값 계산\n",
    "multi_train_pred = multi_regressor.predict(train_data)\n",
    "multi_test_pred = multi_regressor.predict(test_data)\n",
    "\n",
    "# 위의 예측값을 목표값과 비교해 MSE 손실함수의 값 계산\n",
    "multi_train_mse = mean_squared_error(multi_train_pred, train_target)\n",
    "multi_test_mse = mean_squared_error(multi_test_pred, test_target)\n",
    "print(f\"Train MSE: {multi_train_mse:.5f}\")\n",
    "print(f\"Test MSE: {multi_test_mse:.5f}\")"
   ]
  },
  {
   "cell_type": "markdown",
   "id": "21550d8e-3455-45c9-8fd2-4c857623987d",
   "metadata": {},
   "source": [
    "목표값을 x, 예측값을 y에 배치하였을 때의 산점도를 도식화 했을때 x=y 직선에 가까워야 한다.\n",
    "시각화 결과 샘플들이 x=y 주변에 샘플들이 몰려 있으면 모델의 예측이 성공적이었다는 것을 확인할 수 있음"
   ]
  },
  {
   "cell_type": "code",
   "execution_count": 30,
   "id": "dafaa9d7-e46a-442c-8b94-1a7c1fac5e88",
   "metadata": {},
   "outputs": [
    {
     "data": {
      "image/png": "[encoded data removed]",
      "text/plain": [
       "<Figure size 400x400 with 1 Axes>"
      ]
     },
     "metadata": {},
     "output_type": "display_data"
    }
   ],
   "source": [
    "plt.figure(figsize=(4, 4)) # figure 생성\n",
    "\n",
    "plt.xlabel(\"target\")        # x축에 이름 넣어 놓기\n",
    "plt.ylabel(\"prediction\")    # y축에 이름 넣어 놓기\n",
    "\n",
    "# 테스트셋의 목표값(x축)과 모델의 예측값(y축)을 산점도로 도식화\n",
    "y_pred = multi_test_pred  # test data의 예측값을 y_pred라는 변수에 저장한다.\n",
    "plt.plot(test_target, y_pred, '.')           # 실제값-예측값을 .으로 표시\n",
    "\n",
    "# y = x 직선을 플롯. 이 직선에 가까운 점일수록 정확한 예측이다.\n",
    "x = np.linspace(-2.5, 2.5, 10) # -2.5 ~ 2.5까지 10개의 리스트 = [-2.5, -2, -1.5, ... ,2 ,2.5]\n",
    "y = x\n",
    "plt.plot(x, y) # y = x 라는 식이 위에 보이니 해당 직선이 어떻게 나올지 예상 가능하지?\n",
    "\n",
    "plt.show()"
   ]
  },
  {
   "cell_type": "code",
   "execution_count": 33,
   "id": "9ff3d1b2-0c0e-4bc9-9ca5-52141a352fc3",
   "metadata": {},
   "outputs": [
    {
     "name": "stdout",
     "output_type": "stream",
     "text": [
      "Multi Regression Train MSE is 0.48775\n",
      "Multi Regression Test MSE is 0.48552\n"
     ]
    }
   ],
   "source": [
    "# MSE function 을 사용하는 선형회귀 모델의 경우 해석저거 해법이 알려져 있음.\n",
    "# 이를 일반적인 linear equation인 Ax=b 형태로 변형한다.\n",
    "A = train_data.T @ train_data\n",
    "b = train_data.T @ train_target\n",
    "\n",
    "# numpy를 활용해 linear equation 풀기\n",
    "coef = np.linalg.solve(A, b)\n",
    "\n",
    "# 학습된 parameter를 이용해 예측값을 내놓는 함수를 정의\n",
    "def predict(data, coef):\n",
    "    return data @ coef\n",
    "\n",
    "# 학습, 평가 데이터셋에서 회귀식의 예측값 계산\n",
    "train_pred = predict(train_data, coef)\n",
    "test_pred = predict(test_data, coef)\n",
    "\n",
    "# 위의 예측값을 목표값과 비교해 MSE 손실함수의 값 계산\n",
    "train_mse = mean_squared_error(train_pred, train_target)\n",
    "test_mse = mean_squared_error(test_pred, test_target)\n",
    "\n",
    "print(f\"Multi Regression Train MSE is {train_mse:.5f}\")\n",
    "print(f\"Multi Regression Test MSE is {test_mse:.5f}\")\n"
   ]
  },
  {
   "cell_type": "code",
   "execution_count": 34,
   "id": "313abac5-f371-43c3-bb61-8df213d9aa71",
   "metadata": {},
   "outputs": [
    {
     "name": "stdout",
     "output_type": "stream",
     "text": [
      "[ 0.0102865  -0.19547942  0.34118854  0.21364359 -0.4406124   0.2252958\n",
      "  0.09358096  0.13713625  0.44288378  0.05132672]\n",
      "[ 0.01031407 -0.19555811  0.34121274  0.21355396 -0.44036806  0.22496163\n",
      "  0.09359078  0.13715189  0.44283816  0.0513602 ]\n"
     ]
    }
   ],
   "source": [
    "# scikit-learn 패키지를 활용한 학습 결과\n",
    "print(multi_regressor.coef_)\n",
    "# 해석적 해법을 이용해 직접 계산한 학습 결과\n",
    "print(coef)"
   ]
  },
  {
   "cell_type": "markdown",
   "id": "32561a77-92cd-4491-89db-49a3da6aefdc",
   "metadata": {},
   "source": [
    "차이가 무척 적은 것을 통해 해석적 해법 또한 효과가 비슷하다는 것을 알 수 있다."
   ]
  },
  {
   "cell_type": "markdown",
   "id": "6330b342-2f32-4cf8-a37c-c60c328b8db5",
   "metadata": {},
   "source": [
    "# 상관행렬의 시각화"
   ]
  },
  {
   "cell_type": "code",
   "execution_count": 36,
   "id": "a5d07e82-1605-4df1-af65-e3bcd837a5bd",
   "metadata": {},
   "outputs": [
    {
     "data": {
      "image/png": "[encoded data removed]",
      "text/plain": [
       "<Figure size 1300x1000 with 2 Axes>"
      ]
     },
     "metadata": {},
     "output_type": "display_data"
    }
   ],
   "source": [
    "# 데이터의 상관계수 행렬을 생성\n",
    "corr = data.corr(numeric_only=True)\n",
    "\n",
    "# figure에서 생략될 부분을 지정하는 mask 행렬을 생성\n",
    "mask = np.ones_like(corr, dtype=bool)\n",
    "mask = np.triu(mask)\n",
    "\n",
    "# 시각화될 그림의 크기를 지정\n",
    "# 히트맵 형태로 상관행렬 시각화하기\n",
    "plt.figure(figsize=(13,10))\n",
    "sns.heatmap(data=corr, annot=True, fmt='.2f', mask=mask, linewidths=.5, cmap='RdYlBu_r')\n",
    "plt.title('Correlation Matrix')\n",
    "plt.show()"
   ]
  },
  {
   "cell_type": "code",
   "execution_count": 37,
   "id": "134a8e92-908c-4389-a81b-2a06ec790ff3",
   "metadata": {},
   "outputs": [
    {
     "name": "stdout",
     "output_type": "stream",
     "text": [
      "[[-0.19645512]]\n"
     ]
    }
   ],
   "source": [
    "# 단순선형회귀분석을 진행할 두 변수를 선정 : -0.20의 상관계수를 보이는  S3-S2 비교\n",
    "x_feature = \"s3\"\n",
    "y_feature = \"s2\"\n",
    "\n",
    "# 모델 초기화 및 학습\n",
    "simple_regressor = LinearRegression()\n",
    "simple_regressor.fit(data[[x_feature]], data[[y_feature]])\n",
    "\n",
    "# 결과 회귀계수 확인\n",
    "coef = simple_regressor.coef_\n",
    "print(coef)"
   ]
  },
  {
   "cell_type": "code",
   "execution_count": 38,
   "id": "269d1fbc-223e-412f-b20b-b0435263fab2",
   "metadata": {},
   "outputs": [
    {
     "data": {
      "image/png": "[encoded data removed]",
      "text/plain": [
       "<Figure size 400x400 with 1 Axes>"
      ]
     },
     "metadata": {},
     "output_type": "display_data"
    }
   ],
   "source": [
    "# 원본 데이터변수를 산점도로 시각화\n",
    "plt.figure(figsize=(4, 4))\n",
    "plt.xlabel(x_feature)\n",
    "plt.ylabel(y_feature)\n",
    "plt.plot(data[[x_feature]], data[[y_feature]], \".\")\n",
    "\n",
    "# 전체 데이터를 도식화 할 x값 범위를 설정\n",
    "x_min, x_max = -5, 5\n",
    "plt.xlim(x_min, x_max)\n",
    "\n",
    "# 회귀 직선식을 플롯\n",
    "x = np.linspace(x_min, x_max, 10)\n",
    "y = coef.item() * x  # item() 함수는 원소가 1개인 array를 단순 scalar로 변환할 때 사용\n",
    "plt.plot(x, y)\n",
    "\n",
    "plt.show()"
   ]
  }
 ],
 "metadata": {
  "kernelspec": {
   "display_name": "Fastcampus",
   "language": "python",
   "name": "fastcampus"
  },
  "language_info": {
   "codemirror_mode": {
    "name": "ipython",
    "version": 3
   },
   "file_extension": ".py",
   "mimetype": "text/x-python",
   "name": "python",
   "nbconvert_exporter": "python",
   "pygments_lexer": "ipython3",
   "version": "3.11.9"
  }
 },
 "nbformat": 4,
 "nbformat_minor": 5
}
