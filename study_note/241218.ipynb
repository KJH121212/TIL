{
 "cells": [
  {
   "cell_type": "markdown",
   "id": "d366ef12-d8ca-4321-8b84-6d5d3b218273",
   "metadata": {},
   "source": [
    "# Supervision과 지도학습\n",
    "Supervision - 지도 학습(Label을 붙여줌)\n",
    "\n",
    "1. 회귀모델 (연속형 변수)\n",
    "모델의 종속 변수(y)가 연속형 변수인 모델 ex.) 방 개수, 면적, 주변 지하철역과의 거리 등을 통해 집 가격을 예측\n",
    "\n",
    "2. 분류 모델 (이산형 변)\n",
    "모델의 종속 변수(y)가 범주형 또는 이산형 변수인 모델 ex) 이메일의 내용을 보고 스팸메일인지 아닌지 구분"
   ]
  },
  {
   "cell_type": "markdown",
   "id": "a6d8e6f0-96f2-4c0c-a251-6f34d0561a23",
   "metadata": {},
   "source": [
    "## 회귀모델 방법론\n",
    "1. 선형회귀 모델 (Linear Regression)\n",
    "2. 상관관계 분석 (Correlation Analysis)"
   ]
  },
  {
   "cell_type": "markdown",
   "id": "fbe1059f-0981-49af-86ee-95affc2c6ca8",
   "metadata": {},
   "source": [
    "# 회귀 모델\n",
    "연속형 변수의 예측 = 입력값이 무엇이든, 출력값이 연속형 변수인 모델을 사용하는 방법론\n",
    "\n",
    "Line Fitting 관점에서의 선형 회귀 모델\n",
    "- 직선의 기울기와 y절편을 조절해 데이터 와의 오차(MSE)가 가장 작아지도록 만들기\n",
    "\n"
   ]
  },
  {
   "cell_type": "markdown",
   "id": "ac46b99d-9d8e-4993-8f42-e2b933473f0f",
   "metadata": {},
   "source": [
    "## Python_note 폴더의 Linear_model.ipynb, segmentation_modieling.ipynb 파일에 자세한 코드 설명"
   ]
  },
  {
   "cell_type": "code",
   "execution_count": null,
   "id": "94c558cf-1aca-4701-824a-901bd9ab92bc",
   "metadata": {},
   "outputs": [],
   "source": []
  }
 ],
 "metadata": {
  "kernelspec": {
   "display_name": "Fastcampus",
   "language": "python",
   "name": "fastcampus"
  },
  "language_info": {
   "codemirror_mode": {
    "name": "ipython",
    "version": 3
   },
   "file_extension": ".py",
   "mimetype": "text/x-python",
   "name": "python",
   "nbconvert_exporter": "python",
   "pygments_lexer": "ipython3",
   "version": "3.11.9"
  }
 },
 "nbformat": 4,
 "nbformat_minor": 5
}
