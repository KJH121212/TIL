{
 "cells": [
  {
   "cell_type": "markdown",
   "id": "e6b076ba-cd82-4fb4-bec6-0c6f56c97397",
   "metadata": {},
   "source": [
    "# Branch 이해하기\n",
    "코드를 함부로 건드렸다가 한번에 망가지면서 되돌리고 싶어지는 순간이 무조건 한번은 온다.  \n",
    "코딩을 공부한 사람이라면 한번쯤은 콘트롤 z가 안먹히는 순간 등에 식은땀을 흘리면서 복구하기 위해 고생한 기억이 한번은 있을 것이다.\n",
    "\n",
    "branch는 이를 방지 할수 있는 방법이다.  \n",
    "버전을 업데이트를 할 때, master branch를 바로 업데이트 했다가 망하면 복구하기 힘들다.  \n",
    "하지만 새로운 branch를 만들고 그곳에 기존 코드를 복사해 수정 후 저장한다면, 원본 코드는 여전히 master branch에 남아 있기 때문에 복구가 무척이나 쉬워진다.\n",
    "\n",
    "아무튼 쉽게 생각하면 Branch는 버전은 관리하기 위해 사용하는 코드를 수정하는 또 다른 공간이며, 해당 공간에 기존 코드를 복사해 수정한 후에 이전 코드에 더할지를 선택할 수 있도록 해주는 도구라고 생각하자. (일단 내가 생각하기로는 그렇다.)\n"
   ]
  },
  {
   "cell_type": "markdown",
   "id": "464e95a2-4607-435f-a2bc-f6de533782ad",
   "metadata": {},
   "source": [
    "# Branch 생성/삭제/이동\n",
    "그러면 Branch는 어떻게 생성하는가. git branch {branch 이름} 코드를 통해 새로운 branch를 생성할 수 있다.  \n",
    "이를 삭제하는 방법은 git branch -d {branch 이름} 코드를 통해 branch를 삭제할 수 있다.  \n",
    "강사님은 꼭 사용 완료한 branch는 그때 그때 삭제하는 습관을 가지라고 조언하셨다.(나중에 가서 branch가 많아지면 헷갈린다는데 나는 아직 잘 모르겠다.)  \n",
    "\n",
    "Branch를 이동하는 방법은 git switch {branch 이름} 코드를 통해 이동할 수 있다.  \n",
    "현재 생성되어 있는 Branch와 현재 작업중인 Branch를 확인 할 수 있다."
   ]
  },
  {
   "cell_type": "markdown",
   "id": "0510707b-4185-4bb8-a765-04ec9466f15f",
   "metadata": {},
   "source": [
    "# Merge\n",
    "Merge란 단어 뜻 그대로 병합을 뜻한다.  \n",
    "서로 다른 브랜치에서 작업을 했거나, 작업 내용을 합쳐야 할 경우 사용한다.  \n",
    "\n",
    "예를 들어 Main branch 와 KJH branch가 있다고 가정하자,  \n",
    "git switch Main 코드를 입력해 Main branch로 이동 한 후,  \n",
    "git merge KJH 코드를 입력하게 되면,  \n",
    "KJH branch에 있던 코드가 Main branch에 병합된다."
   ]
  },
  {
   "cell_type": "markdown",
   "id": "050b85f2-3aa7-4bb2-bb20-853e23f0b9c1",
   "metadata": {},
   "source": [
    "# Merge conflict\n",
    "Merge를 할 때 발생하는 충돌이다.  \n",
    "에러를 내는 것 보다는 해결할 수 있느냐가 더 중요한 문제이다.  \n",
    "\n",
    "이를 해결하는 방법은 일단 Merge를 해보고, 충돌이 발생한 파일을 열어서 문제를 해결하는 것이다.  \n",
    "이때 vi {filenema} 코드를 사용했다면, 수정시 (=====, <<<<<, >>>>>)는 모두 삭제해야한다.  \n",
    "수정 완료후 다시 add와 commit을 한 후, branch를 삭제한다.  \n",
    "\n",
    "다른 방식으로는 rebase 방식이 있는데 해당 방법은 잘 사용되지 않고 복잡하니 깔끔하게 포기하자.\n"
   ]
  },
  {
   "cell_type": "markdown",
   "id": "36c6bcbe-73b0-4e68-9d15-bf2baf0f4961",
   "metadata": {},
   "source": [
    "# Team Project with Github\n",
    "\n",
    "## 1. issues\n",
    "- 프로젝트의 기획, 작업, 개선 사항, 버그 수정, 새로 추가될 기능 등의 모든 것들을 Issue라고 칭한다.  \n",
    "  Github 에서는 이 모든 활동에 대해 Issue를 등록하고 그것을 기반으로 작업을 진행 할 수 있다.  \n",
    "\n",
    "## 2. Project\n",
    "- 프로젝트는 작업의 진행도를 한 눈에 볼 수 있고, 이슈들을 하나의 task로 나타내서 그 작업이 어느정도 진행되었는지 확인하고 관리할 수 있는 메뉴이다. (task management 라고 생각하면 편할 듯?)\n",
    "- commit, pull request 등을 통해 자동으로 움직이도록 관리할 수 있다.\n",
    "\n",
    "## 3. Pull Request\n",
    "- 먼저 Fork를 통해 타겟 프로젝트의 repository를 자신의 repsitory에 복사 한다.\n",
    "- fork한 repsitory를 clone 하고, remote 설정을 한다.\n",
    "- branch를 생성하여 파일을 수정 및 추가하며 작업을 진행한다.\n",
    "- 작업을 마친 이후, add, commit, push를 진행한다.\n",
    "- push 완료 후 github reposityory로 돌아가면 Compare * pull request 버튼이 활성화 되어 있는 것을 확인할 수 있다.\n",
    "\n",
    "- repository 관리자(팀장)이 코드 변경내역을 확인하고 Merge 여부를 결정한다.\n",
    "- Merge가 완료되면 로컬의 branch를 삭제한다."
   ]
  },
  {
   "cell_type": "code",
   "execution_count": null,
   "id": "33e0f5fd-c0dc-4649-91d2-a12920c7889a",
   "metadata": {},
   "outputs": [],
   "source": []
  }
 ],
 "metadata": {
  "kernelspec": {
   "display_name": "Python 3 (ipykernel)",
   "language": "python",
   "name": "python3"
  },
  "language_info": {
   "codemirror_mode": {
    "name": "ipython",
    "version": 3
   },
   "file_extension": ".py",
   "mimetype": "text/x-python",
   "name": "python",
   "nbconvert_exporter": "python",
   "pygments_lexer": "ipython3",
   "version": "3.11.9"
  }
 },
 "nbformat": 4,
 "nbformat_minor": 5
}
