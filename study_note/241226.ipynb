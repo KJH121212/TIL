{
 "cells": [
  {
   "cell_type": "markdown",
   "metadata": {},
   "source": [
    "# coding_test"
   ]
  },
  {
   "cell_type": "markdown",
   "metadata": {},
   "source": [
    "# Project\n",
    "생각해 보니 상관계수 구하는 코드를 적용해서 상관 계수가 1인 index를 제거해 줘야 하는 것 아닌가 하는 의문이 듬.  \n",
    "ipynb 에서 ipynb 함수를 끌고 오는 방법이 있나? 아니면 그냥 cell 하나 만들어서 def 처리해서 셀하나 만드는게 더 나을지도?  \n",
    "근데 그러면 협업하기 너무 힘들지 않나? 협업을 어떤 식으로 해야하지?  \n",
    "\n",
    "1. 데이터 표준화를 시켜야 하는가?  \n",
    "데이터 표준화는 단위를 신경쓰지 않고 비교하기 위해 사용된다. 확실히 데이터 표준화를 실행하면 각 column 마다의 중요도가 동일해 질 것이기 때문에 필요할지도 모르겠다.  \n",
    "시도해볼만한 가치는 있을 것 같은데?  \n",
    "\n",
    "2. 버스-지하철 거리를 계산\n",
    "해당 코드를 작성해 보았지만 데이터내에 수도권 이외의 지역은 데이터에 없었다.  \n",
    "즉 수도권아 아닌 지역에서 거리 데이터는 제외하는 것이 좋아보임.\n",
    "\n",
    "3. 상관계수 그래프\n",
    "상관계수 그래프를 그려보긴 했는데 상관관계가 인과관계는 아니기 때문에 제외해야할 column을 잘 생각해 봐야한다.\n"
   ]
  }
 ],
 "metadata": {
  "kernelspec": {
   "display_name": "Fastcampus",
   "language": "python",
   "name": "fastcampus"
  },
  "language_info": {
   "name": "python",
   "version": "3.11.9"
  }
 },
 "nbformat": 4,
 "nbformat_minor": 2
}
