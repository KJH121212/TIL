{
 "cells": [
  {
   "cell_type": "markdown",
   "id": "e6b076ba-cd82-4fb4-bec6-0c6f56c97397",
   "metadata": {},
   "source": [
    "# Branch 이해하기\n",
    "코드를 함부로 건드렸다가 한번에 망가지면서 되돌리고 싶어지는 순간이 무조건 한번은 온다.  \n",
    "코딩을 공부한 사람이라면 한번쯤은 콘트롤 z가 안먹히는 순간 등에 식은땀을 흘리면서 복구하기 위해 고생한 기억이 한번은 있을 것이다.\n",
    "\n",
    "branch는 이를 방지 할수 있는 방법이다.  \n",
    "버전을 업데이트를 할 때, master branch를 바로 업데이트 했다가 망하면 복구하기 힘들다.  \n",
    "하지만 새로운 branch를 만들고 그곳에 기존 코드를 복사해 수정 후 저장한다면, 원본 코드는 여전히 master branch에 남아 있기 때문에 복구가 무척이나 쉬워진다.\n",
    "\n",
    "아무튼 쉽게 생각하면 Branch는 버전은 관리하기 위해 사용하는 코드를 수정하는 또 다른 공간이며, 해당 공간에 기존 코드를 복사해 수정한 후에 이전 코드에 더할지를 선택할 수 있도록 해주는 도구라고 생각하자. (일단 내가 생각하기로는 그렇다.)\n"
   ]
  },
  {
   "cell_type": "markdown",
   "id": "464e95a2-4607-435f-a2bc-f6de533782ad",
   "metadata": {},
   "source": [
    "# Branch 생성/삭제/이동\n",
    "그러면 Branch는 어떻게 생성하는가. git branch {branch 이름} 코드를 통해 새로운 branch를 생성할 수 있다.  \n",
    "이를 삭제하는 방법은 git branch -d {branch 이름} 코드를 통해 branch를 삭제할 수 있다.  \n",
    "강사님은 꼭 사용 완료한 branch는 그때 그때 삭제하는 습관을 가지라고 조언하셨다.(나중에 가서 branch가 많아지면 헷갈린다는데 나는 아직 잘 모르겠다.)  \n",
    "\n",
    "Branch를 이동하는 방법은 git switch {branch 이름} 코드를 통해 이동할 수 있다.  \n",
    "현재 생성되어 있는 Branch와 현재 작업중인 Branch를 확인 할 수 있다."
   ]
  },
  {
   "cell_type": "markdown",
   "id": "0510707b-4185-4bb8-a765-04ec9466f15f",
   "metadata": {},
   "source": [
    "# Merge\n",
    "Merge란 단어 뜻 그대로 병합을 뜻한다.  \n",
    "서로 다른 브랜치에서 작업을 했거나, 자겅ㅂ내용을 합쳐야 할 경우 사용한다.  \n",
    "\n",
    "예를 들어 Main branch 와 KJH branch가 있다고 가정하자,  \n",
    "git switch Main 코드를 입력해 Main branch로 이동 한 후,  \n",
    "git merge KJH 코드를 입력하게 되면,  \n",
    "KJH branch에 있던 코드가 Main branch에 병합된다."
   ]
  },
  {
   "cell_type": "markdown",
   "id": "050b85f2-3aa7-4bb2-bb20-853e23f0b9c1",
   "metadata": {},
   "source": [
    "# Merge conflict\n",
    "Merge를 할 때 발생하는 충돌이다.  \n",
    "에러를 내는 것 보다는 해결할 수 있느냐가 더 중요한 문제이다.  \n",
    "\n",
    "만약 충돌이 생길 경우 "
   ]
  },
  {
   "cell_type": "code",
   "execution_count": null,
   "id": "288b08a2-1930-44e6-9efc-4de7511d684b",
   "metadata": {},
   "outputs": [],
   "source": []
  }
 ],
 "metadata": {
  "kernelspec": {
   "display_name": "Python 3 (ipykernel)",
   "language": "python",
   "name": "python3"
  },
  "language_info": {
   "codemirror_mode": {
    "name": "ipython",
    "version": 3
   },
   "file_extension": ".py",
   "mimetype": "text/x-python",
   "name": "python",
   "nbconvert_exporter": "python",
   "pygments_lexer": "ipython3",
   "version": "3.11.9"
  }
 },
 "nbformat": 4,
 "nbformat_minor": 5
}
