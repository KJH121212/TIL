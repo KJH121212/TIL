{
 "cells": [
  {
   "cell_type": "code",
   "execution_count": 12,
   "id": "03f15e66",
   "metadata": {},
   "outputs": [
    {
     "name": "stdout",
     "output_type": "stream",
     "text": [
      "✅ 번역 및 저장 완료!\n"
     ]
    }
   ],
   "source": [
    "import re\n",
    "import json\n",
    "import os\n",
    "from deep_translator import GoogleTranslator\n",
    "\n",
    "translator = GoogleTranslator(source='en', target='ko')\n",
    "\n",
    "def translate_text(text):\n",
    "    if not text or not isinstance(text, str):\n",
    "        return text\n",
    "\n",
    "    # 번역 제외 대상: @UUID[...] 와 &amp;Reference[...]\n",
    "    chunks = re.split(r'(&amp;Reference\\[.*?\\]|@UUID\\[.*?\\]{.*?})', text)\n",
    "    translated_chunks = []\n",
    "\n",
    "    for chunk in chunks:\n",
    "        if re.match(r'(&amp;Reference\\[.*?\\]|@UUID\\[.*?\\]{.*?})', chunk):\n",
    "            translated_chunks.append(chunk)  # 번역 안함\n",
    "        else:\n",
    "            # HTML 태그 보존\n",
    "            parts = re.split(r'(<[^>]+>)', chunk)\n",
    "            for part in parts:\n",
    "                if re.match(r'<[^>]+>', part) or not part.strip():\n",
    "                    translated_chunks.append(part)\n",
    "                else:\n",
    "                    try:\n",
    "                        translated = translator.translate(part)\n",
    "                        translated_chunks.append(translated if translated else part)\n",
    "                    except Exception:\n",
    "                        translated_chunks.append(part)\n",
    "\n",
    "    return ''.join(translated_chunks)\n",
    "\n",
    "def translate_name_or_title(value):\n",
    "    try:\n",
    "        translated = translator.translate(value)\n",
    "        return f\"{translated}({value})\" if translated else value\n",
    "    except Exception:\n",
    "        return value\n",
    "\n",
    "def recursive_translate(data):\n",
    "    if isinstance(data, dict):\n",
    "        translated = {}\n",
    "        for k, v in data.items():\n",
    "            if k in ['name', 'title']:\n",
    "                translated[k] = translate_name_or_title(v)\n",
    "            elif k in ['description', 'hint', 'condition']:\n",
    "                translated[k] = translate_text(v)\n",
    "            else:\n",
    "                translated[k] = recursive_translate(v)\n",
    "        return translated\n",
    "    elif isinstance(data, list):\n",
    "        return [recursive_translate(item) for item in data]\n",
    "    elif isinstance(data, str):\n",
    "        return data\n",
    "    else:\n",
    "        return data\n",
    "\n",
    "# 파일 경로\n",
    "input_path = \"./dnd-players-handbook.classes.json\"\n",
    "output_path = \"./dnd-players-handbook.classes.translated.json\"\n",
    "\n",
    "# JSON 로드\n",
    "with open(input_path, \"r\", encoding=\"utf-8\") as f:\n",
    "    source_json = json.load(f)\n",
    "\n",
    "# 번역 수행\n",
    "translated_json = recursive_translate(source_json)\n",
    "\n",
    "# 디렉터리 없으면 생성 후 저장\n",
    "os.makedirs(os.path.dirname(output_path) or \".\", exist_ok=True)\n",
    "with open(output_path, \"w\", encoding=\"utf-8\") as f:\n",
    "    json.dump(translated_json, f, ensure_ascii=False, indent=2)\n",
    "\n",
    "print(\"✅ 번역 및 저장 완료!\")\n"
   ]
  }
 ],
 "metadata": {
  "kernelspec": {
   "display_name": "tran",
   "language": "python",
   "name": "python3"
  },
  "language_info": {
   "codemirror_mode": {
    "name": "ipython",
    "version": 3
   },
   "file_extension": ".py",
   "mimetype": "text/x-python",
   "name": "python",
   "nbconvert_exporter": "python",
   "pygments_lexer": "ipython3",
   "version": "3.10.16"
  }
 },
 "nbformat": 4,
 "nbformat_minor": 5
}
