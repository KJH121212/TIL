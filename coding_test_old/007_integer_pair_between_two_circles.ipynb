{
 "cells": [
  {
   "cell_type": "markdown",
   "metadata": {},
   "source": [
    "# 두 원 사이의 정수 쌍\n",
    "\n",
    "## 문제 설명\n",
    "x축과 y축으로 이루어진 2차원 직교 좌표계에 중심이 원점인 서로 다른 크기의 원이 두 개 주어집니다. 반지름을 나타내는 두 정수 r1, r2가 매개변수로 주어질 때, 두 원 사이의 공간에 x좌표와 y좌표가 모두 정수인 점의 개수를 return하도록 solution 함수를 완성해주세요.\n",
    "※ 각 원 위의 점도 포함하여 셉니다.\n",
    "\n",
    "## 제한사항\n",
    "1 ≤ r1 < r2 ≤ 1,000,000"
   ]
  },
  {
   "cell_type": "code",
   "execution_count": 51,
   "metadata": {},
   "outputs": [
    {
     "name": "stdout",
     "output_type": "stream",
     "text": [
      "20\n"
     ]
    }
   ],
   "source": [
    "# 우리가 찾는 점 (x1,y1)과 원점의 거리가 r1 보다 크거나 같고 r2보다 작거나 같아야 한다.\n",
    "# 즉, r1 <= sqrt(x1^2 + y1^2) <= r2 여야 한다.\n",
    "# 이를 만족하는 (x1,y1)의 개수를 구하면 된다.\n",
    "# 1<= r1 <= r2 <= 1,000,000 이니 1<= root(x1^2 + y1^2) <= 1,000,000 인 정수 (x1,y1)의 개수를 구하면 된다.\n",
    "\n",
    "# def solution(r1, r2):\n",
    "#     answer = 0\n",
    "#     for x1 in range(1, r2):\n",
    "#         for y1 in range(1, r2):\n",
    "#             if r1**2 <= x1**2 + y1**2 <= r2**2:\n",
    "#                 answer += 1\n",
    "#     plus_y0 = 0\n",
    "#     for i in range(r1,r2):\n",
    "#         if r1 <= i <= r2:\n",
    "#             plus_y0 += 1\n",
    "#     answer = (answer + plus_y0) * 4\n",
    "#     return answer\n",
    "\n",
    "# 위의 코드는 그냥 슬쩍 봐도 시간 복잡도가 너무 크기 때문에 실패할 가능성이 너무 높아 포기한다.\n",
    "\n",
    "\n",
    "\n",
    "# 다른 방식으로 접근해보자.\n",
    "# 큰 원에 들어가 있는 모든 점들의 개수를 구하고, 그 내부에 있는 작은 원에 들어가 있는 모든 점들의 개수를 제거하면 된다.\n",
    "# 원안에 들어가 있는 점의 개수를 구하는 함수를 만들어야함.\n",
    "def in_circle_1(r):\n",
    "    count = 0\n",
    "    max_y = 0\n",
    "    for x in range(0,r+1):\n",
    "        max_y = int((r**2 - x**2)**0.5)\n",
    "        count += max_y + 1\n",
    "    count = 4*count - (r+1)*4 +1\n",
    "    return count\n",
    "\n",
    "def in_circle_2(r):\n",
    "    count = 0\n",
    "    max_y = 0\n",
    "    for x in range(0,r+1):\n",
    "        max_y = int((r**2 - x**2)**0.5)\n",
    "        count += max_y + 1\n",
    "        if max_y**2 + x**2 == r**2:\n",
    "            count -= 1\n",
    "    count = 4*count - (r)*4 +1\n",
    "    return count\n",
    "\n",
    "\n",
    "\n",
    "def solution(r1, r2):\n",
    "    answer = in_circle_1(r2)-in_circle_2(r1) # 작은 원의 경계는 제외해야 하기 때문에 r1-1을 해준다.\n",
    "    return answer\n",
    "\n",
    "r1 = 2\n",
    "r2 = 3\n",
    "print(solution(r1, r2))\n",
    "\n"
   ]
  },
  {
   "cell_type": "markdown",
   "metadata": {},
   "source": [
    "## 채점 결과\n",
    "걸린 시간 = 2시간  \n",
    "코드 결과값 일치 = 통과    \n",
    "테스트 통과 = 통과(실패시 이유)   \n",
    "오늘 날짜 : 24.12.27\n",
    "\n",
    "## Feedback\n",
    "다시는 ChatGPT를 믿지 않으리...  \n",
    "원 내부 정수의 점들을 구하는 방법에 대한 식을 구하는게 가장 헷갈렸다.  \n",
    "그중에서 테두리를 포함 하냐 안하냐도 굉장히 까다로웠던 것 같음.  "
   ]
  },
  {
   "cell_type": "markdown",
   "metadata": {},
   "source": [
    "# 해당 코드는 프로그래머스에 나온 코드 테스트를 이용한 것임을 알림\n",
    "https://school.programmers.co.kr/learn/courses/30/lessons/181187"
   ]
  },
  {
   "cell_type": "markdown",
   "metadata": {},
   "source": []
  },
  {
   "cell_type": "code",
   "execution_count": null,
   "metadata": {},
   "outputs": [],
   "source": []
  }
 ],
 "metadata": {
  "kernelspec": {
   "display_name": "Fastcampus",
   "language": "python",
   "name": "fastcampus"
  },
  "language_info": {
   "codemirror_mode": {
    "name": "ipython",
    "version": 3
   },
   "file_extension": ".py",
   "mimetype": "text/x-python",
   "name": "python",
   "nbconvert_exporter": "python",
   "pygments_lexer": "ipython3",
   "version": "3.11.9"
  }
 },
 "nbformat": 4,
 "nbformat_minor": 2
}
