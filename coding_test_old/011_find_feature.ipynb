{
 "cells": [
  {
   "cell_type": "markdown",
   "metadata": {},
   "source": []
  },
  {
   "cell_type": "markdown",
   "metadata": {},
   "source": [
    "# 특정 형질을 가지는 대장균 찾기\n",
    "## 문제 설명\n",
    "대장균들은 일정 주기로 분화하며, 분화를 시작한 개체를 부모 개체, 분화가 되어 나온 개체를 자식 개체라고 합니다.\n",
    "다음은 실험실에서 배양한 대장균들의 정보를 담은 ECOLI_DATA 테이블입니다. ECOLI_DATA 테이블의 구조는 다음과 같으며, ID, PARENT_ID, SIZE_OF_COLONY, DIFFERENTIATION_DATE, GENOTYPE 은 각각 대장균 개체의 ID, 부모 개체의 ID, 개체의 크기, 분화되어 나온 날짜, 개체의 형질을 나타냅니다.\n",
    "\n",
    "|Column name|\t            Type|\t        Nullable|  \n",
    "|------------------------|--------------|------------|\n",
    "|ID|\t                    INTEGER|\t        FALSE|  \n",
    "|PARENT_ID|\t            INTEGER|\t        TRUE|  \n",
    "|SIZE_OF_COLONY|\t        INTEGER|\t        FALSE| \n",
    "|DIFFERENTIATION_DATE|\tDATE|\t        FALSE|  \n",
    "|GENOTYPE|\t            INTEGER|\t        FALSE|  \n",
    "\n",
    "최초의 대장균 개체의 PARENT_ID 는 NULL 값입니다.\n",
    "\n",
    "2번 형질이 보유하지 않으면서 1번이나 3번 형질을 보유하고 있는 대장균 개체의 수(COUNT)를 출력하는 SQL 문을 작성해주세요. 1번과 3번 형질을 모두 보유하고 있는 경우도 1번이나 3번 형질을 보유하고 있는 경우에 포함합니다.\n",
    "\n",
    "## 제한사항\n",
    "없음"
   ]
  },
  {
   "cell_type": "code",
   "execution_count": null,
   "metadata": {
    "vscode": {
     "languageId": "plaintext"
    }
   },
   "outputs": [],
   "source": [
    "r"
   ]
  },
  {
   "cell_type": "markdown",
   "metadata": {},
   "source": [
    "## 채점 결과\n",
    "걸린 시간 = 30분  \n",
    "코드 결과값 일치 = 통과    \n",
    "테스트 통과 = 통과(실패시 이유)   \n",
    "오늘 날짜 : 24.12.23\n",
    "\n",
    "## Feedback\n"
   ]
  },
  {
   "cell_type": "markdown",
   "metadata": {},
   "source": [
    "# 해당 코드는 프로그래머스에 나온 코드 테스트를 이용한 것임을 알림\n",
    "https://school.programmers.co.kr/learn/courses/30/lessons/178871"
   ]
  }
 ],
 "metadata": {
  "language_info": {
   "name": "python"
  }
 },
 "nbformat": 4,
 "nbformat_minor": 2
}
