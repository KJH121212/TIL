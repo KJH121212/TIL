{
 "cells": [
  {
   "cell_type": "markdown",
   "metadata": {},
   "source": [
    "# 햄버거 만들기\n",
    "## 문제 설명\n",
    "햄버거 가게에서 일을 하는 상수는 햄버거를 포장하는 일을 합니다. 함께 일을 하는 다른 직원들이 햄버거에 들어갈 재료를 조리해 주면 조리된 순서대로 상수의 앞에 아래서부터 위로 쌓이게 되고, 상수는 순서에 맞게 쌓여서 완성된 햄버거를 따로 옮겨 포장을 하게 됩니다. 상수가 일하는 가게는 정해진 순서(아래서부터, 빵 – 야채 – 고기 - 빵)로 쌓인 햄버거만 포장을 합니다. 상수는 손이 굉장히 빠르기 때문에 상수가 포장하는 동안 속 재료가 추가적으로 들어오는 일은 없으며, 재료의 높이는 무시하여 재료가 높이 쌓여서 일이 힘들어지는 경우는 없습니다.\n",
    "\n",
    "예를 들어, 상수의 앞에 쌓이는 재료의 순서가 [야채, 빵, 빵, 야채, 고기, 빵, 야채, 고기, 빵]일 때, 상수는 여섯 번째 재료가 쌓였을 때, 세 번째 재료부터 여섯 번째 재료를 이용하여 햄버거를 포장하고, 아홉 번째 재료가 쌓였을 때, 두 번째 재료와 일곱 번째 재료부터 아홉 번째 재료를 이용하여 햄버거를 포장합니다. 즉, 2개의 햄버거를 포장하게 됩니다.\n",
    "\n",
    "상수에게 전해지는 재료의 정보를 나타내는 정수 배열 ingredient가 주어졌을 때, 상수가 포장하는 햄버거의 개수를 return 하도록 solution 함수를 완성하시오.\n",
    "\n",
    "## 제한사항\n",
    "1 ≤ ingredient의 길이 ≤ 1,000,000  \n",
    "ingredient의 원소는 1, 2, 3 중 하나의 값이며, 순서대로 빵, 야채, 고기를 의미합니다."
   ]
  },
  {
   "cell_type": "code",
   "execution_count": 19,
   "metadata": {},
   "outputs": [
    {
     "name": "stdout",
     "output_type": "stream",
     "text": [
      "0\n"
     ]
    }
   ],
   "source": [
    "# ingredient = [2,1,1,2,3,1,2,3,1]\n",
    "ingredient = [1,3,2,1,2,1,3,1,2]\n",
    "\n",
    "# 기본 적인 틀은 list를 문자열 str로 변형 한후, '1231'로 이루어진 빵을 계속해서 뺴내고, 빼낸 재료들을 떠로 저장한뒤 이를 무한정 반복한다.\n",
    "def solution(ingredient):\n",
    "    a = ''.join(str(i) for i in ingredient) # list 내부 변수가 int 형이기 때문에 str로 변경 후 join을 진행\n",
    "    answer = 0\n",
    "    while True:\n",
    "        if a.count(\"1231\") != 0: # 문자열 내부의 1231이 하나라도 있다면\n",
    "            answer += a.count(\"1231\")   # 포장한 햄버거 개수 더하기\n",
    "            a = a.replace(\"1231\",\"\")    # 문자열에서 포장한 햄버거 제거\n",
    "        else:\n",
    "            break\n",
    "    return answer\n",
    "\n",
    "print(solution(ingredient))"
   ]
  },
  {
   "cell_type": "code",
   "execution_count": 23,
   "metadata": {},
   "outputs": [
    {
     "name": "stdout",
     "output_type": "stream",
     "text": [
      "7\n"
     ]
    }
   ],
   "source": [
    "ingredient = [1,3,2,1,2,1,3,1,2,3,1,1,2,3,1]\n",
    "\n",
    "burger_list = ''.join(str(i) for i in ingredient)     # 기본적으로 문자열로 변환하는건 동일하게 진행\n",
    "hamburger = \"1231\"\n",
    "i = burger_list.find(hamburger)\n",
    "print(i)"
   ]
  },
  {
   "cell_type": "code",
   "execution_count": 26,
   "metadata": {},
   "outputs": [
    {
     "name": "stdout",
     "output_type": "stream",
     "text": [
      "0\n"
     ]
    }
   ],
   "source": [
    "ingredient = [1,3,2,1,2,1,3,1,2,3,1,1,2,3,1]\n",
    "\n",
    "def solution(ingredient):\n",
    "    burger_list = ''.join(str(i) for i in ingredient)     # 기본적으로 문자열로 변환하는건 동일하게 진행\n",
    "    hamburger = \"1231\"\n",
    "    answer = 0\n",
    "    \n",
    "    # while True:\n",
    "    #     if a.count(hamburger) != 0:\n",
    "    #         answer += 1\n",
    "    #         burger_list[burger_list.find(hamburger):burger_list.find(hamburger)+4] = ''\n",
    "    #     else:\n",
    "    #         break\n",
    "    # return answer\n",
    "# print(solution(ingredient))\n",
    "\n",
    "\n"
   ]
  },
  {
   "cell_type": "code",
   "execution_count": 1,
   "metadata": {},
   "outputs": [
    {
     "name": "stdout",
     "output_type": "stream",
     "text": [
      "2\n"
     ]
    }
   ],
   "source": [
    "ingredient = [1,3,2,1,2,1,3,1,2,3,1,1,2,3,1]\n",
    "\n",
    "def solution(ingredient):\n",
    "    food = []\n",
    "    cnt = 0\n",
    "    \n",
    "    for z in ingredient:\n",
    "        food.append(z) # 비어 있는 리스트에 ingredient 하나씩 추가\n",
    "        \n",
    "        if food[-4:] == [1, 2, 3, 1]:   # 하나씩 넣어보면서 마지막 ingredient 4개가 [1,2,3,1]인지 확인\n",
    "            del food[-4:]               # 맞으면 [1,2,3,1] 제거\n",
    "            cnt += 1                    # 햄버거 개수 하나 추가\n",
    "            \n",
    "    return cnt\n",
    "\n",
    "print(solution(ingredient))"
   ]
  },
  {
   "cell_type": "markdown",
   "metadata": {},
   "source": [
    "### 채점 결과\n",
    "걸린 시간 = 1시간\n",
    "코드 결과값 일치 = 통과  \n",
    "테스트 통과 = 통과 (일부 입력값에 의해 실패)\n",
    "\n",
    "오늘 날짜 : 24.12.22\n",
    "\n",
    "### Feedback\n",
    "a = ''.join(str(i) for i in ingredient) 함수를 외워두는게 좋을 것 같다.   \n",
    "추가적으로 일부 입력값에 대해 실패했다.  \n",
    "그 이유를 생각해 보면 아마 처음 1231을 발견하고 제거한 후에 1231을 찾아야 하는데,  \n",
    "1231을 모두 찾은 이후에 1231을 다시 찾는 형식으로 만들어서 그런 것 같다.\n",
    "\n",
    "주어진 설명을 보면 한사람이 한번에 하나씩 포장 할 수 있다고 보아야 하기 때문에 동시에 여러개를 찾아서 포장하는건 안된다.\n",
    "따라서 처음 제작한 코드는 틀린 코드이다.\n",
    "\n",
    "다시 작성한 코드는 그냥 리스트 그대로 사용했다.  \n",
    "하나씩 넣어보다 마지막 4개의 조합이 [1,2,3,1]이면 그것을 제외하고 다시 하나씩 쌓으면 된다는 간단한 방법이었다.\n",
    "발상의 전환으로 문제를 푼 것이라 조금 아쉽다.  \n",
    "내가 생각한 구현 방식을 코드로 만들었으면 좀더 좋지 않았을까 싶다.\n",
    "\n",
    "# 해당 코드는 프로그래머스에 나온 코드 테스트를 이용한 것임을 알림\n",
    "https://school.programmers.co.kr/learn/courses/30/lessons/176963"
   ]
  },
  {
   "cell_type": "markdown",
   "metadata": {},
   "source": []
  }
 ],
 "metadata": {
  "kernelspec": {
   "display_name": "Fastcampus",
   "language": "python",
   "name": "fastcampus"
  },
  "language_info": {
   "codemirror_mode": {
    "name": "ipython",
    "version": 3
   },
   "file_extension": ".py",
   "mimetype": "text/x-python",
   "name": "python",
   "nbconvert_exporter": "python",
   "pygments_lexer": "ipython3",
   "version": "3.11.9"
  }
 },
 "nbformat": 4,
 "nbformat_minor": 2
}
