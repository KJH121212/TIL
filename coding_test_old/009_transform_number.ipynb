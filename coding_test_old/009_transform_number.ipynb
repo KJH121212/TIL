{
 "cells": [
  {
   "cell_type": "markdown",
   "metadata": {},
   "source": [
    "# 숫자 변환하기\n",
    "\n",
    "## 문제 설명\n",
    "자연수 x를 y로 변환하려고 합니다. 사용할 수 있는 연산은 다음과 같습니다.\n",
    "\n",
    "- x에 n을 더합니다\n",
    "- x에 2를 곱합니다.\n",
    "- x에 3을 곱합니다.\n",
    "\n",
    "자연수 x, y, n이 매개변수로 주어질 때, x를 y로 변환하기 위해 필요한 최소 연산 횟수를 return하도록 solution 함수를 완성해주세요. 이때 x를 y로 만들 수 없다면 -1을 return 해주세요.\n",
    "\n",
    "## 제한사항\n",
    "1 ≤ x ≤ y ≤ 1,000,000\n",
    "1 ≤ n < y"
   ]
  },
  {
   "cell_type": "code",
   "execution_count": null,
   "metadata": {},
   "outputs": [],
   "source": [
    "from collections import deque\n",
    "\n",
    "def solution(x, y, n):\n",
    "    # BFS를 활용해 최소 연산 횟수 탐색\n",
    "    queue = deque([(x, 0)])  # (현재 값, 연산 횟수)\n",
    "    visited = set()  # 방문 여부 확인 및 초기화화\n",
    "\n",
    "    while queue:\n",
    "        current, operations = queue.popleft()\n",
    "\n",
    "        # 목표값에 도달하면 연산 횟수 반환\n",
    "        if current == y:\n",
    "            return operations\n",
    "\n",
    "        # 이미 방문한 값은 무시\n",
    "        if current in visited:\n",
    "            continue\n",
    "\n",
    "        visited.add(current)\n",
    "\n",
    "        # 가능한 연산 수행\n",
    "        next_values = [current + n, current * 2, current * 3]\n",
    "        for next_val in next_values:\n",
    "            if next_val <= y and next_val not in visited:\n",
    "                queue.append((next_val, operations + 1))\n",
    "\n",
    "    # 목표값에 도달할 수 없는 경우\n",
    "    return -1\n",
    "\n",
    "    \n"
   ]
  },
  {
   "cell_type": "markdown",
   "metadata": {},
   "source": [
    "## 채점 결과\n",
    "걸린 시간 = 0분  \n",
    "코드 결과값 일치 = 미통과    \n",
    "테스트 통과 = 미통과(손도 못댔음 ㅠㅜ)   \n",
    "오늘 날짜 : 24.12.29\n",
    "\n",
    "## Feedback\n",
    "BFS를 사용해야 하는 문제였다.  \n",
    "BFS 라는 것을 아예 몰랐기 때문에 해당 문제는 다른 사람의 풀이를 확인해 공부했다.  \n",
    "각 숫자를 노드로 생각하고, 연산을 통해 이동할 수 있는 숫자들을 간선으로 간주한다.  \n",
    "BFS(너비 우선 탐색)을 통해 최단경로를 구할 수 있음.  "
   ]
  },
  {
   "cell_type": "markdown",
   "metadata": {},
   "source": [
    "# 해당 코드는 프로그래머스에 나온 코드 테스트를 이용한 것임을 알림\n",
    "https://school.programmers.co.kr/learn/courses/30/lessons/154538"
   ]
  },
  {
   "cell_type": "markdown",
   "metadata": {},
   "source": []
  }
 ],
 "metadata": {
  "kernelspec": {
   "display_name": "Fastcampus",
   "language": "python",
   "name": "fastcampus"
  },
  "language_info": {
   "codemirror_mode": {
    "name": "ipython",
    "version": 3
   },
   "file_extension": ".py",
   "mimetype": "text/x-python",
   "name": "python",
   "nbconvert_exporter": "python",
   "pygments_lexer": "ipython3",
   "version": "3.11.9"
  }
 },
 "nbformat": 4,
 "nbformat_minor": 2
}
