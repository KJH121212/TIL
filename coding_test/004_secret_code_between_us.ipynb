{
 "cells": [
  {
   "cell_type": "code",
   "execution_count": 79,
   "metadata": {},
   "outputs": [
    {
     "name": "stdout",
     "output_type": "stream",
     "text": [
      "b\n"
     ]
    }
   ],
   "source": [
    "\n",
    "\n",
    "def solution(s, skip, index):\n",
    "    a = list(s)\n",
    "    b = list(skip)\n",
    "\n",
    "    for i in range(0,len(a)):\n",
    "        for j in range(0,index):\n",
    "            a[i] = chr(ord(a[i])+1)\n",
    "            for k in range(0,len(b)):\n",
    "                if a[i] == '{':\n",
    "                    a[i] = chr(ord('a'))\n",
    "                elif a[i] == b[k]:\n",
    "                    a[i] = chr(ord(a[i])+1)\n",
    "                else:\n",
    "                    break\n",
    "\n",
    "    answer = ''.join(a)\n",
    "    return answer\n",
    "\n",
    "s=\"z\"\n",
    "skip=\"baz\"\n",
    "index=1\n",
    "\n",
    "print(solution(s,skip,index))"
   ]
  },
  {
   "cell_type": "markdown",
   "metadata": {},
   "source": [
    "## 문제 설명\n",
    "두 문자열 s와 skip, 그리고 자연수 index가 주어질 때, 다음 규칙에 따라 문자열을 만들려 합니다. 암호의 규칙은 다음과 같습니다.  \n",
    "\n",
    "문자열 s의 각 알파벳을 index만큼 뒤의 알파벳으로 바꿔줍니다.  \n",
    "index만큼의 뒤의 알파벳이 z를 넘어갈 경우 다시 a로 돌아갑니다.  \n",
    "skip에 있는 알파벳은 제외하고 건너뜁니다.  \n",
    "예를 들어 s = \"aukks\", skip = \"wbqd\", index = 5일 때, a에서 5만큼 뒤에 있는 알파벳은 f지만 [b, c, d, e, f]에서 'b'와 'd'는 skip에 포함되므로 세지 않습니다. 따라서 'b', 'd'를 제외하고 'a'에서 5만큼 뒤에 있는 알파벳은 [c, e, f, g, h] 순서에 의해 'h'가 됩니다. 나머지 \"ukks\" 또한 위 규칙대로 바꾸면 \"appy\"가 되며 결과는 \"happy\"가 됩니다.\n",
    "\n",
    "두 문자열 s와 skip, 그리고 자연수 index가 매개변수로 주어질 때 위 규칙대로 s를 변환한 결과를 return하도록 solution 함수를 완성해주세요.  \n",
    "\n",
    "## 제한사항\n",
    "5 ≤ s의 길이 ≤ 50  \n",
    "1 ≤ skip의 길이 ≤ 10  \n",
    "s와 skip은 알파벳 소문자로만 이루어져 있습니다.  \n",
    "    - skip에 포함되는 알파벳은 s에 포함되지 않습니다.  \n",
    "1 ≤ index ≤ 20"
   ]
  },
  {
   "cell_type": "code",
   "execution_count": 80,
   "metadata": {},
   "outputs": [
    {
     "name": "stdout",
     "output_type": "stream",
     "text": [
      "{\n"
     ]
    }
   ],
   "source": [
    "def solution(s, skip, index):\n",
    "    a = list(s)\n",
    "    b = list(skip)\n",
    "\n",
    "    for i in range(0,len(a)):\n",
    "        for j in range(0,index):\n",
    "            a[i] = chr(ord(a[i])+1)\n",
    "            for k in b:\n",
    "                if a[i] == '{':\n",
    "                    a[i] = 'a'\n",
    "                elif a[i] == k:\n",
    "                    a[i] = chr(ord(a[i])+1)\n",
    "                else:\n",
    "                    continue\n",
    "    answer = ''.join(a)\n",
    "    return answer\n",
    "\n",
    "# # 입력값\n",
    "# s = 'aukks'\n",
    "# skip = 'wbqd'\n",
    "# index = 5\n",
    "\n",
    "s = 'y'\n",
    "skip = 'baz'\n",
    "index = 1\n",
    "\n",
    "print(solution(s,skip,index))\n"
   ]
  },
  {
   "cell_type": "code",
   "execution_count": 3,
   "metadata": {},
   "outputs": [
    {
     "name": "stdout",
     "output_type": "stream",
     "text": [
      "c\n"
     ]
    }
   ],
   "source": [
    "# 해당 코드는 https://susinlee.tistory.com/163 에서 가져온 것을 알립니다.\n",
    "\n",
    "def solution(s, skip, index):\n",
    "    answer = []\n",
    "    # 효율적인 처리를 위해 set으로 해서 O(1)로 만들어줌\n",
    "    skip = set(map(ord, skip))  # map(가가 요소에 적용할 함수, 함수를 적용할 데이터 집합) == skip 내의 data 모두 ord 시켜 숫자로 변경\n",
    "\n",
    "    for c in map(ord, s):\n",
    "        step = 0\n",
    "        \n",
    "        # 스텝이 index보다 작으면 반복\n",
    "        while step < index:\n",
    "        \n",
    "        \t# c를 한칸 이동함\n",
    "            c = (c + 1 - ord('a')) % 26 + ord('a')  #ord('a') 에서 출발하기 위해 뒤에 더하고 a에서 얼마나 가야하는지를 구하기 위해 알파벳 개수인 26으로 나누어 나온 나머지를 더한다. 첫 괄호 안에 -ord('a')가 있는 이유는 c+1이 a에서 얼마나 멀리 떨어져 있는지를 확인하기 위해서다.\n",
    "            \n",
    "            # 이동한 것이 skip에 있는가?\n",
    "            if c not in skip:\n",
    "            \n",
    "            \t# 없다면 스텝 1 증가\n",
    "                step += 1\n",
    "                \n",
    "        # 작업이 끝났다면 리스트에 추가\n",
    "        answer.append(chr(c))\n",
    "\n",
    "    return ''.join(answer)\n",
    "\n",
    "\n",
    "# # 입력값\n",
    "# s = 'aukks'\n",
    "# skip = 'wbqd'\n",
    "# index = 5\n",
    "\n",
    "s = 'y'\n",
    "skip = 'baz'\n",
    "index = 1\n",
    "\n",
    "print(solution(s,skip,index))"
   ]
  },
  {
   "cell_type": "markdown",
   "metadata": {},
   "source": [
    "### 채점 결과\n",
    "걸린 시간 = 1시간  \n",
    "코드 결과값 일치 = 통과  \n",
    "테스트 통과 = 미통과 (반례로 인한 실패)  \n",
    "\n",
    "입력값 〉 \"y\", \"baz\", 1\n",
    "기댓값 〉 \"c\"\n",
    "\n",
    "오늘 날짜 : 24.12.21\n",
    "\n",
    "### Feedback\n",
    "chr 이 숫자를 아스키 코드로, ord가 아스키 코드를 숫자로 만드는 함수라는 것을 기억할 것.  \n",
    "사실 어떻게 고쳐야 할지 감도 안왔다. 상대의 코드를 보고 나서야 방법을 알 수 있었음. 존심 상하네 ㅎ;  \n",
    "발상의 전환이 필요했었는데 너무 a의 아스키 코드를 그대로 가져가야 한다고 생각했던 것 같음.\n",
    "\n",
    "\n",
    "# 해당 코드는 프로그래머스에 나온 코드 테스트를 이용한 것임을 알림\n",
    "https://school.programmers.co.kr/learn/courses/30/lessons/155652"
   ]
  },
  {
   "cell_type": "markdown",
   "metadata": {},
   "source": []
  }
 ],
 "metadata": {
  "kernelspec": {
   "display_name": "Fastcampus",
   "language": "python",
   "name": "fastcampus"
  },
  "language_info": {
   "codemirror_mode": {
    "name": "ipython",
    "version": 3
   },
   "file_extension": ".py",
   "mimetype": "text/x-python",
   "name": "python",
   "nbconvert_exporter": "python",
   "pygments_lexer": "ipython3",
   "version": "3.11.9"
  }
 },
 "nbformat": 4,
 "nbformat_minor": 2
}
