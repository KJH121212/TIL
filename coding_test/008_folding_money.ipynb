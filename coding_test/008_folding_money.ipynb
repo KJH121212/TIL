{
 "cells": [
  {
   "cell_type": "markdown",
   "metadata": {},
   "source": [
    "# 지폐접기\n",
    "\n",
    "## 문제 설명\n",
    "민수는 다양한 지폐를 수집하는 취미를 가지고 있습니다. 지폐마다 크기가 달라 지갑에 넣으려면 여러 번 접어서 넣어야 합니다. 예를 들어 지갑의 크기가 30 * 15이고 지폐의 크기가 26 * 17이라면 한번 반으로 접어 13 * 17 크기로 만든 뒤 90도 돌려서 지갑에 넣을 수 있습니다. 지폐를 접을 때는 다음과 같은 규칙을 지킵니다.  \n",
    "- 지폐를 접을 때는 항상 길이가 긴 쪽을 반으로 접습니다.\n",
    "- 접기 전 길이가 홀수였다면 접은 후 소수점 이하는 버립니다.\n",
    "- 접힌 지폐를 그대로 또는 90도 돌려서 지갑에 넣을 수 있다면 그만 접습니다.  \n",
    "\n",
    "지갑의 가로, 세로 크기를 담은 정수 리스트 wallet과 지폐의 가로, 세로 크기를 담은 정수 리스트 bill가 주어질 때, 지갑에 넣기 위해서 지폐를 최소 몇 번 접어야 하는지 return하도록 solution함수를 완성해 주세요.  \n",
    "\n",
    "지폐를 지갑에 넣기 위해 접어야 하는 최소 횟수를 구하는 과정은 다음과 같습니다.  \n",
    "\n",
    "1. 지폐를 접은 횟수를 저장할 정수 변수 answer를 만들고 0을 저장합니다.  \n",
    "2. 반복문을 이용해 bill의 작은 값이 wallet의 작은 값 보다 크거나 bill의 큰 값이 wallet의 큰 값 보다 큰 동안 아래 과정을 반복합니다.  \n",
    "    2-1. bill[0]이 bill[1]보다 크다면  \n",
    "        bill[0]을 2로 나누고 나머지는 버립니다.  \n",
    "    2-2. 그렇지 않다면  \n",
    "        bill[1]을 2로 나누고 나머지는 버립니다.  \n",
    "    2-3. answer을 1 증가시킵니다.  \n",
    "3. answer을 return합니다.  \n",
    "위의 의사코드와 작동방식이 다른 코드를 작성해도 상관없습니다.  \n",
    "\n",
    "## 제한사항\n",
    "- wallet의 길이 = bill의 길이 = 2\n",
    "- 10 ≤ wallet[0], wallet[1] ≤ 100\n",
    "- 10 ≤ bill[0], bill[1] ≤ 2,000"
   ]
  },
  {
   "cell_type": "code",
   "execution_count": 6,
   "metadata": {},
   "outputs": [
    {
     "name": "stdout",
     "output_type": "stream",
     "text": [
      "1\n"
     ]
    }
   ],
   "source": [
    "def solution(wallet, bill):\n",
    "    answer = 0\n",
    "    while True:\n",
    "        wallet.sort()\n",
    "        bill.sort()\n",
    "        if wallet[1] < bill[1]:\n",
    "            bill[1] = int(bill[1] / 2)\n",
    "        elif wallet[0] < bill[0]:\n",
    "            bill[1] = int(bill[1] / 2)\n",
    "        else:\n",
    "            break\n",
    "        answer = answer + 1\n",
    "    return answer\n",
    "\n",
    "wallet = [30,15]\n",
    "bill = [26,17]\n",
    "print(solution(wallet, bill))"
   ]
  },
  {
   "cell_type": "markdown",
   "metadata": {},
   "source": [
    "## 채점 결과\n",
    "걸린 시간 = 30분  \n",
    "코드 결과값 일치 = 통과    \n",
    "테스트 통과 = 케이스 11 실패(나누기 2했을때 버림을 까먹고 int를 안넣었음. 그래도 금방 찾아서 고침)   \n",
    "오늘 날짜 : 24.12.27\n",
    "\n",
    "## Feedback\n",
    "쉬운 문제였음. 딱히 깊게 생각할 문제는 아니었던 듯.\n"
   ]
  },
  {
   "cell_type": "markdown",
   "metadata": {},
   "source": [
    "# 해당 코드는 프로그래머스에 나온 코드 테스트를 이용한 것임을 알림\n",
    "https://school.programmers.co.kr/learn/courses/30/lessons/340199"
   ]
  },
  {
   "cell_type": "markdown",
   "metadata": {},
   "source": []
  }
 ],
 "metadata": {
  "kernelspec": {
   "display_name": "Fastcampus",
   "language": "python",
   "name": "fastcampus"
  },
  "language_info": {
   "codemirror_mode": {
    "name": "ipython",
    "version": 3
   },
   "file_extension": ".py",
   "mimetype": "text/x-python",
   "name": "python",
   "nbconvert_exporter": "python",
   "pygments_lexer": "ipython3",
   "version": "3.11.9"
  }
 },
 "nbformat": 4,
 "nbformat_minor": 2
}
