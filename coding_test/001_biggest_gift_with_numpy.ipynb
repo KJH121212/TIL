{
 "cells": [
  {
   "cell_type": "markdown",
   "id": "fbd9b5eb-cbcd-4bbf-83b4-bd399efd1da6",
   "metadata": {},
   "source": [
    "# 가장 많이 받은 선물\n",
    "## 2024 KaKao Winter Internship\n",
    "\n",
    "선물을 직접 전하기 힘들 때 카카오톡 선물하기 기능을 이용해 축하 선물을 보낼 수 있습니다. 당신의 친구들이 이번 달까지 선물을 주고받은 기록을 바탕으로 다음 달에 누가 선물을 많이 받을지 예측하려고 합니다.\n",
    "\n",
    "1. 두 사람이 선물을 주고받은 기록이 있다면, 이번 달까지 두 사람 사이에 더 많은 선물을 준 사람이 다음 달에 선물을 하나 받습니다.\n",
    "  - 예를 들어 A가 B에게 선물을 5번 줬고, B가 A에게 선물을 3번 줬다면 다음 달엔 A가 B에게 선물을 하나 받습니다.\n",
    "2. 두 사람이 선물을 주고받은 기록이 하나도 없거나 주고받은 수가 같다면, 선물 지수가 더 큰 사람이 선물 지수가 더 작은 사람에게 선물을 하나 받습니다.\n",
    "  - 선물 지수는 이번 달까지 자신이 친구들에게 준 선물의 수에서 받은 선물의 수를 뺀 값입니다.\n",
    "  - 예를 들어 A가 친구들에게 준 선물이 3개고 받은 선물이 10개라면 A의 선물 지수는 -7입니다. B가 친구들에게 준 선물이 3개고 받은 선물이 2개라면 B의 선물 지수는 1입니다. 만약 A와 B가 선물을 주고받은 적이 없거나 정확히 같은 수로 선물을 주고받았다면, 다음 달엔 B가 A에게 선물을 하나 받습니다.\n",
    "-  만약 두 사람의 선물 지수도 같다면 다음 달에 선물을 주고받지 않습니다.\n",
    "\n",
    "위에서 설명한 규칙대로 다음 달에 선물을 주고받을 때, 당신은 선물을 가장 많이 받을 친구가 받을 선물의 수를 알고 싶습니다.\n",
    "\n",
    "친구들의 이름을 담은 1차원 문자열 배열 friends 이번 달까지 친구들이 주고받은 선물 기록을 담은 1차원 문자열 배열 gifts가 매개변수로 주어집니다. 이때, 다음달에 가장 많은 선물을 받는 친구가 받을 선물의 수를 return 하도록 solution 함수를 완성해 주세요.\n",
    "\n",
    "## 제한사항\n",
    "\n",
    "2 ≤ friends의 길이 = 친구들의 수 ≤ 50  \n",
    "- friends의 원소는 친구의 이름을 의미하는 알파벳 소문자로 이루어진 길이가 10 이하인 문자열입니다.  \n",
    "- 이름이 같은 친구는 없습니다.\n",
    "\n",
    "1 ≤ gifts의 길이 ≤ 10,000  \n",
    "- gifts의 원소는 \"A B\"형태의 문자열입니다. A는 선물을 준 친구의 이름을 B는 선물을 받은 친구의 이름을 의미하며 공백 하나로 구분됩니다.  \n",
    "- A와 B는 friends의 원소이며 A와 B가 같은 이름인 경우는 존재하지 않습니다.  "
   ]
  },
  {
   "cell_type": "code",
   "execution_count": 1,
   "id": "8664e7e8-a09c-4342-a504-7eecd7031e5a",
   "metadata": {},
   "outputs": [],
   "source": [
    "import numpy as np"
   ]
  },
  {
   "cell_type": "code",
   "execution_count": 2,
   "id": "ca407667-3b1a-4e4e-8080-5a8219b00413",
   "metadata": {},
   "outputs": [],
   "source": [
    "def gift_score(friends, gifts):\n",
    "    friends_give = np.zeros(len(friends)) # 각각의 인물이 선물을 준 양\n",
    "    friends_take = np.zeros(len(friends)) # 각각의 인물이 선물을 받은 양\n",
    "    gifts_score = np.zeros(len(friends))\n",
    "\n",
    "    for i in range(0,len(friends)): # friends 내 모든 인원의 이름이 gifts에 들어 갔는지 검사\n",
    "        for j in range(0,len(gifts)):  # 모든 gifts 전달 확인\n",
    "            if gifts[j].find(friends[i]) == 0:  # friends[i] 가 gifts[j]의 가장 앞에 있을 때 = 선물을 주었다.\n",
    "                friends_give[i] += 1\n",
    "            elif gifts[j].find(friends[i]) == -1:  # friends[i] 가 gifts[j]에 없을 때 = 선물 교환이 없었다.\n",
    "                continue\n",
    "            else:                                  # friends[i] 가 gifts[j]의 안에 있지만 가장 앞이 아닐 때 = 선물을 받았다.\n",
    "                friends_take[i] += 1\n",
    "\n",
    "    for i in range(0,len(gifts_score)):\n",
    "        gifts_score[i] = friends_give[i] - friends_take[i]\n",
    "\n",
    "    return gifts_score"
   ]
  },
  {
   "cell_type": "code",
   "execution_count": 3,
   "id": "56ec167a-9cf1-46b9-86ac-1c56c5a5ad7f",
   "metadata": {},
   "outputs": [],
   "source": [
    "def gift_table(friends, gifts):\n",
    "    gifts_table = np.zeros((len(friends),len(friends))) # 만들고 싶은 선물 이동 표\n",
    "\n",
    "    for i in range(0,len(friends)): # friends 내 모든 인원의 이름이 gifts에 들어 갔는지 검사\n",
    "        for j in range(0,len(gifts)):  # 모든 gifts 전달 확인\n",
    "            if gifts[j].find(friends[i]) == 0:  # friends[i] 가 gifts[j]의 가장 앞에 있을 때 = 선물을 주었다.\n",
    "                for k in range(0,len(friends)):\n",
    "                    if (i != k) & (gifts[j].find(friends[k]) != -1): # 누구에게 gifts를 주었는지 판단\n",
    "                        gifts_table[i,k] += 1\n",
    "                    else:\n",
    "                        continue                    \n",
    "            else:                                  # friends[i] 가 gifts[j]의 안에 있지만 가장 앞이 아닐 때 = 선물을 받았다.\n",
    "                continue\n",
    "    \n",
    "    return gifts_table"
   ]
  },
  {
   "cell_type": "code",
   "execution_count": 4,
   "id": "cef8e9f1-6027-4db8-806e-c472207bcfb8",
   "metadata": {},
   "outputs": [],
   "source": [
    "def next_gift(friends, gifts):\n",
    "    table = gift_table(friends,gifts)\n",
    "    score = gift_score(friends,gifts)\n",
    "\n",
    "    next_gifts = np.zeros(len(friends))\n",
    "    \n",
    "    for i in range(0,len(friends)):\n",
    "        for j in range(0,len(friends)):\n",
    "            if i <= j:\n",
    "                break\n",
    "            else:\n",
    "                if table[i,j] > table[j,i]:\n",
    "                    next_gifts[i] += 1\n",
    "                elif table[i,j] == table[j,i]:\n",
    "                    if score[i] > score[j]:\n",
    "                        next_gifts[i] += 1\n",
    "                    elif score[i] == score[j]:\n",
    "                        continue\n",
    "                    else:\n",
    "                        next_gifts[j] += 1\n",
    "                else:\n",
    "                    next_gifts[j] +=1\n",
    "                    \n",
    "    return next_gifts"
   ]
  },
  {
   "cell_type": "code",
   "execution_count": 5,
   "id": "bc300823-9e81-45d1-94dd-642c94aba881",
   "metadata": {},
   "outputs": [],
   "source": [
    "def solution(friends, gifts):\n",
    "    answer = int(max(next_gift(friends,gifts)))\n",
    "    return answer"
   ]
  },
  {
   "cell_type": "code",
   "execution_count": 6,
   "id": "a08b8afc-286d-47e8-b61d-6283adf563e1",
   "metadata": {},
   "outputs": [],
   "source": [
    "group1 = [\"muzi\",\"ryan\",\"frodo\",\"neo\"]\n",
    "group2 = [\"joy\", \"brad\", \"alessandro\", \"conan\", \"david\"]\n",
    "group3 = [\"a\", \"b\", \"c\"]\n",
    "\n",
    "group1_gifts = [\"muzi frodo\", \"muzi frodo\", \"ryan muzi\", \"ryan muzi\", \"ryan muzi\", \"frodo muzi\", \"frodo ryan\", \"neo muzi\"]\n",
    "group2_gifts = [\"alessandro brad\", \"alessandro joy\", \"alessandro conan\", \"david alessandro\", \"alessandro david\"]\n",
    "group3_gifts = [\"a b\", \"b a\", \"c a\", \"a c\", \"a c\", \"c a\"]"
   ]
  },
  {
   "cell_type": "code",
   "execution_count": 7,
   "id": "62035a7d-d81b-4f9c-88eb-6bd80a606e9d",
   "metadata": {},
   "outputs": [
    {
     "name": "stdout",
     "output_type": "stream",
     "text": [
      "2\n",
      "4\n",
      "0\n"
     ]
    }
   ],
   "source": [
    "print(solution(group1,group1_gifts))\n",
    "print(solution(group2,group2_gifts))\n",
    "print(solution(group3,group3_gifts))\n"
   ]
  },
  {
   "cell_type": "markdown",
   "id": "6e88fe3d-c130-40e5-b4b1-dbafecda39f9",
   "metadata": {},
   "source": [
    "### 채점 결과\n",
    "걸린 시간 = 3시간  \n",
    "코드 결과값 일치 = 통과  \n",
    "테스트 통과 = 실패 (시간 초과로 인한 몇몇 실패)\n",
    "\n",
    "오늘 날짜 : 24.12.18\n",
    "\n",
    "### Feedback\n",
    "해당 코드를 프로그래머스에서 돌려 보았더니 numpy를 import 할 수 없는 문제점이 있었다. 따라서 해당 코드는 시험에서는 사용할 수 없는 코드다.  \n",
    "np.zeros() 함수를 대채 할 수 있는 방법이 필요해 보인다.\n",
    "\n",
    "또한 solution 함수를 만드는 것인데 외부에 다른 함수들을 만들어서 사용해도 되는것은 간단한 코드를 통해 확인해 보았다.\n",
    "\n",
    "앞으로는 다른 라이브러리를 import 하지 않고 오로지 python에 있는 함수만을 이용해서 문제를 풀어야 된다는 사실을 깨달았다.\n",
    "\n",
    "# 해당 코드는 프로그래머스에 나온 코드 테스트를 이용한 것임을 알림\n",
    "https://school.programmers.co.kr/learn/courses/30/lessons/258712"
   ]
  }
 ],
 "metadata": {
  "kernelspec": {
   "display_name": "Fastcampus",
   "language": "python",
   "name": "fastcampus"
  },
  "language_info": {
   "codemirror_mode": {
    "name": "ipython",
    "version": 3
   },
   "file_extension": ".py",
   "mimetype": "text/x-python",
   "name": "python",
   "nbconvert_exporter": "python",
   "pygments_lexer": "ipython3",
   "version": "3.11.9"
  }
 },
 "nbformat": 4,
 "nbformat_minor": 5
}
