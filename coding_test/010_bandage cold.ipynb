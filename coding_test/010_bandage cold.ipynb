{
 "cells": [
  {
   "cell_type": "markdown",
   "metadata": {},
   "source": [
    "# 붕대 감기\n",
    "\n",
    "## 문제 설명\n",
    "어떤 게임에는 붕대 감기라는 기술이 있습니다.\n",
    "\n",
    "붕대 감기는 t초 동안 붕대를 감으면서 1초마다 x만큼의 체력을 회복합니다. t초 연속으로 붕대를 감는 데 성공한다면 y만큼의 체력을 추가로 회복합니다. 게임 캐릭터에는 최대 체력이 존재해 현재 체력이 최대 체력보다 커지는 것은 불가능합니다.\n",
    "\n",
    "기술을 쓰는 도중 몬스터에게 공격을 당하면 기술이 취소되고, 공격을 당하는 순간에는 체력을 회복할 수 없습니다. 몬스터에게 공격당해 기술이 취소당하거나 기술이 끝나면 그 즉시 붕대 감기를 다시 사용하며, 연속 성공 시간이 0으로 초기화됩니다.\n",
    "\n",
    "몬스터의 공격을 받으면 정해진 피해량만큼 현재 체력이 줄어듭니다. 이때, 현재 체력이 0 이하가 되면 캐릭터가 죽으며 더 이상 체력을 회복할 수 없습니다.\n",
    "\n",
    "당신은 붕대감기 기술의 정보, 캐릭터가 가진 최대 체력과 몬스터의 공격 패턴이 주어질 때 캐릭터가 끝까지 생존할 수 있는지 궁금합니다.\n",
    "\n",
    "붕대 감기 기술의 시전 시간, 1초당 회복량, 추가 회복량을 담은 1차원 정수 배열 bandage와 최대 체력을 의미하는 정수 health, 몬스터의 공격 시간과 피해량을 담은 2차원 정수 배열 attacks가 매개변수로 주어집니다. 모든 공격이 끝난 직후 남은 체력을 return 하도록 solution 함수를 완성해 주세요. 만약 몬스터의 공격을 받고 캐릭터의 체력이 0 이하가 되어 죽는다면 -1을 return 해주세요.\n",
    "\n",
    "## 제한사항\n",
    "bandage는 [시전 시간, 초당 회복량, 추가 회복량] 형태의 길이가 3인 정수 배열입니다.\n",
    "- 1 ≤ 시전 시간 = t ≤ 50\n",
    "- 1 ≤ 초당 회복량 = x ≤ 100\n",
    "- 1 ≤ 추가 회복량 = y ≤ 100\n",
    "\n",
    "1 ≤ health ≤ 1,000  \n",
    "1 ≤ attacks의 길이 ≤ 100  \n",
    "- attacks[i]는 [공격 시간, 피해량] 형태의 길이가 2인 정수 배열입니다.\n",
    "- attacks는 공격 시간을 기준으로 오름차순 정렬된 상태입니다.\n",
    "- attacks의 공격 시간은 모두 다릅니다.\n",
    "- 1 ≤ 공격 시간 ≤ 1,000\n",
    "- 1 ≤ 피해량 ≤ 100"
   ]
  },
  {
   "cell_type": "code",
   "execution_count": 1,
   "metadata": {},
   "outputs": [],
   "source": [
    "def solution(bandage, health, attacks):\n",
    "    answer = health\n",
    "    clear = 0\n",
    "    attack_time = []\n",
    "    \n",
    "    for i in range(len(attacks)):\n",
    "        attack_time.append(attacks[i][0])\n",
    "    \n",
    "\n",
    "    for i in range(attack_time[-1]+1):\n",
    "        if i in attack_time:\n",
    "            pos = attack_time.index(i)\n",
    "            power = attacks[pos][1]\n",
    "            answer = answer - power\n",
    "            clear = 0\n",
    "            if answer <= 0:\n",
    "                answer = -1\n",
    "                break\n",
    "        else:\n",
    "            if answer < health:\n",
    "                answer += bandage[1]\n",
    "                clear += 1\n",
    "                if clear == bandage[0]:\n",
    "                    answer += bandage[2]\n",
    "                    clear = 0\n",
    "            \n",
    "            if answer > health:\n",
    "                answer = health\n",
    "                    \n",
    "    return answer"
   ]
  },
  {
   "cell_type": "code",
   "execution_count": null,
   "metadata": {},
   "outputs": [],
   "source": [
    "def solution(bandage, health, attacks):\n",
    "    hp = health\n",
    "    start = 1\n",
    "    for i, j in attacks:\n",
    "        hp += ((i - start) // bandage[0]) * bandage[2] + (i - start) * bandage[1]\n",
    "        start = i + 1\n",
    "        if hp >= health:\n",
    "            hp = health\n",
    "        hp -= j\n",
    "        if hp <= 0:\n",
    "            return -1\n",
    "    return hp"
   ]
  },
  {
   "cell_type": "markdown",
   "metadata": {},
   "source": [
    "## 채점 결과\n",
    "걸린 시간 = 2시간  \n",
    "코드 결과값 일치 = 통과    \n",
    "테스트 통과 = 통과(실패시 이유)   \n",
    "오늘 날짜 : 25.01.02\n",
    "\n",
    "## Feedback\n",
    "좀더 간결하게 만들 수 있는 방법이 있었음. 해설 보고 알았네 ㅋㅋ"
   ]
  },
  {
   "cell_type": "markdown",
   "metadata": {},
   "source": [
    "# 해당 코드는 프로그래머스에 나온 코드 테스트를 이용한 것임을 알림\n",
    "https://school.programmers.co.kr/learn/courses/30/lessons/250137"
   ]
  },
  {
   "cell_type": "markdown",
   "metadata": {},
   "source": []
  }
 ],
 "metadata": {
  "kernelspec": {
   "display_name": "Fastcampus",
   "language": "python",
   "name": "fastcampus"
  },
  "language_info": {
   "codemirror_mode": {
    "name": "ipython",
    "version": 3
   },
   "file_extension": ".py",
   "mimetype": "text/x-python",
   "name": "python",
   "nbconvert_exporter": "python",
   "pygments_lexer": "ipython3",
   "version": "3.11.9"
  }
 },
 "nbformat": 4,
 "nbformat_minor": 2
}
