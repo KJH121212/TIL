{
 "cells": [
  {
   "cell_type": "markdown",
   "id": "0f9911d7-da78-4ca4-affc-2e9759c75913",
   "metadata": {},
   "source": [
    "# 달리기 경주\n",
    "얀에서는 매년 달리기 경주가 열립니다. 해설진들은 선수들이 자기 바로 앞의 선수를 추월할 때 추월한 선수의 이름을 부릅니다. 예를 들어 1등부터 3등까지 \"mumu\", \"soe\", \"poe\" 선수들이 순서대로 달리고 있을 때, 해설진이 \"soe\"선수를 불렀다면 2등인 \"soe\" 선수가 1등인 \"mumu\" 선수를 추월했다는 것입니다. 즉 \"soe\" 선수가 1등, \"mumu\" 선수가 2등으로 바뀝니다.\n",
    "\n",
    "선수들의 이름이 1등부터 현재 등수 순서대로 담긴 문자열 배열 players와 해설진이 부른 이름을 담은 문자열 배열 callings가 매개변수로 주어질 때, 경주가 끝났을 때 선수들의 이름을 1등부터 등수 순서대로 배열에 담아 return 하는 solution 함수를 완성해주세요."
   ]
  },
  {
   "cell_type": "markdown",
   "id": "fc8e9049-49a4-4db9-b30f-ba109ce6d8ea",
   "metadata": {},
   "source": [
    "## 제한사항\n",
    "5 ≤ players의 길이 ≤ 50,000  \n",
    "players[i]는 i번째 선수의 이름을 의미합니다.  \n",
    "players의 원소들은 알파벳 소문자로만 이루어져 있습니다.  \n",
    "players에는 중복된 값이 들어가 있지 않습니다.  \n",
    "3 ≤ players[i]의 길이 ≤ 10  \n",
    "2 ≤ callings의 길이 ≤ 1,000,000  \n",
    "callings는 players의 원소들로만 이루어져 있습니다.  \n",
    "경주 진행중 1등인 선수의 이름은 불리지 않습니다."
   ]
  },
  {
   "cell_type": "markdown",
   "id": "ed27f9fe-7ca1-4792-a841-a0634dd59549",
   "metadata": {},
   "source": [
    "## 원하는 결과 값\n",
    "players = [\"mumu\", \"soe\", \"poe\", \"kai\", \"mine\"]  \n",
    "callings = [\"kai\", \"kai\", \"mine\", \"mine\"]  \n",
    "result = [\"mumu\", \"kai\", \"mine\", \"soe\", \"poe\"]  "
   ]
  },
  {
   "cell_type": "code",
   "execution_count": 1,
   "id": "2088069f-8114-4328-b508-afbe2e9bf6b2",
   "metadata": {},
   "outputs": [],
   "source": [
    "def solution(players, callings):\n",
    "    for i in range(0,len(callings)):\n",
    "        for j in range(0,len(players)):\n",
    "            if players[j] == callings[i]:\n",
    "                temp = players[j]\n",
    "                players[j] = players[j-1]\n",
    "                players[j-1] = temp\n",
    "            else:\n",
    "                continue\n",
    "\n",
    "    answer = players\n",
    "    return answer"
   ]
  },
  {
   "cell_type": "code",
   "execution_count": 2,
   "id": "1c32bb6b-6d91-4c8d-9d63-dc7c941743e3",
   "metadata": {},
   "outputs": [
    {
     "name": "stdout",
     "output_type": "stream",
     "text": [
      "['mumu', 'kai', 'mine', 'soe', 'poe']\n"
     ]
    }
   ],
   "source": [
    "players = [\"mumu\", \"soe\", \"poe\", \"kai\", \"mine\"]  \n",
    "callings = [\"kai\", \"kai\", \"mine\", \"mine\"]  \n",
    "\n",
    "print(solution(players,callings))"
   ]
  },
  {
   "cell_type": "markdown",
   "id": "08916de6-caf1-4cd4-8980-5f366d425681",
   "metadata": {},
   "source": [
    "# 채점 결과\n",
    "걸린 시간 = 30분  \n",
    "코드 결과값 일치 = 통과  \n",
    "테스트 통과 = 실패 (몇몇 테스트 시간 초과)\n",
    "\n",
    "오늘 날짜 : 24.12.19"
   ]
  },
  {
   "cell_type": "markdown",
   "id": "62aecd37-3478-45a2-b054-f615432decf3",
   "metadata": {},
   "source": [
    "# Feedback\n",
    "Time 초과 대체 방안 힌트  \n",
    "index를 줄이고 dict로 만든다  \n",
    "index 자체가 loop이고 dict or object는 address 개념이라 시간 복잡도가 다름\n",
    "\n",
    "Chat GPT 이용 결과, 해당 알고리즘은 선형 검색O(len(players))을 사용하여 매번 players에서 callings[i] 의 위치를 찾고 있습니다.  \n",
    "이를 개선하기 위해 해시 테이블(ex. 딕셔너리)을 사용해 선수의 위치를 미리 저장하고 업데이트 하는 방식으로 시간 복잡도를 줄일 수 있습니다."
   ]
  },
  {
   "cell_type": "code",
   "execution_count": 3,
   "id": "f4356134-149b-4fd6-91ce-ae2d205fdc6f",
   "metadata": {},
   "outputs": [
    {
     "name": "stdout",
     "output_type": "stream",
     "text": [
      "['mumu', 'kai', 'mine', 'soe', 'poe']\n"
     ]
    }
   ],
   "source": [
    "def solution_fix(players, callings):\n",
    "    # players의 dict 생성 key = name, value = rank\n",
    "    rank = {}\n",
    "\n",
    "    # 일단 dictionary로 만들어\n",
    "    for i in range(len(players)):\n",
    "        rank[players[i]] = i\n",
    "\n",
    "    # 순위를 변경해 보자\n",
    "    for k in callings:\n",
    "        winner_n = rank[k] - 1\n",
    "        loser_n = rank[k]\n",
    "\n",
    "        players[winner_n], players[loser_n] = players[loser_n], players[winner_n]\n",
    "        rank[players[winner_n]], rank[players[loser_n]] = winner_n, loser_n\n",
    "\n",
    "    answer = players\n",
    "    return answer\n",
    "\n",
    "players = [\"mumu\", \"soe\", \"poe\", \"kai\", \"mine\"]  \n",
    "callings = [\"kai\", \"kai\", \"mine\", \"mine\"]  \n",
    "\n",
    "\n",
    "print(solution_fix(players,callings))"
   ]
  },
  {
   "cell_type": "markdown",
   "id": "b262903e-4821-4d02-8669-7f45efdf3f4d",
   "metadata": {},
   "source": [
    "dict를 이용해 index를 찾고, 해당 index를 이용해 list를 변경한 후, 변경된 list 내 key 값으로 dict를 업데이트 하는 형식으로 코드 구현"
   ]
  }
 ],
 "metadata": {
  "kernelspec": {
   "display_name": "Fastcampus",
   "language": "python",
   "name": "fastcampus"
  },
  "language_info": {
   "codemirror_mode": {
    "name": "ipython",
    "version": 3
   },
   "file_extension": ".py",
   "mimetype": "text/x-python",
   "name": "python",
   "nbconvert_exporter": "python",
   "pygments_lexer": "ipython3",
   "version": "3.11.9"
  }
 },
 "nbformat": 4,
 "nbformat_minor": 5
}
