{
 "cells": [
  {
   "cell_type": "markdown",
   "metadata": {
    "vscode": {
     "languageId": "plaintext"
    }
   },
   "source": [
    "## 문제 설명\n",
    "\n",
    "사진들을 보며 추억에 젖어 있던 루는 사진별로 추억 점수를 매길려고 합니다. 사진 속에 나오는 인물의 그리움 점수를 모두 합산한 값이 해당 사진의 추억 점수가 됩니다. 예를 들어 사진 속 인물의 이름이 [\"may\", \"kein\", \"kain\"]이고 각 인물의 그리움 점수가 [5점, 10점, 1점]일 때 해당 사진의 추억 점수는 16(5 + 10 + 1)점이 됩니다. 다른 사진 속 인물의 이름이 [\"kali\", \"mari\", \"don\", \"tony\"]이고 [\"kali\", \"mari\", \"don\"]의 그리움 점수가 각각 [11점, 1점, 55점]]이고, \"tony\"는 그리움 점수가 없을 때, 이 사진의 추억 점수는 3명의 그리움 점수를 합한 67(11 + 1 + 55)점입니다.\n",
    "\n",
    "그리워하는 사람의 이름을 담은 문자열 배열 name, 각 사람별 그리움 점수를 담은 정수 배열 yearning, 각 사진에 찍힌 인물의 이름을 담은 이차원 문자열 배열 photo가 매개변수로 주어질 때, 사진들의 추억 점수를 photo에 주어진 순서대로 배열에 담아 return하는 solution 함수를 완성해주세요."
   ]
  },
  {
   "cell_type": "markdown",
   "metadata": {
    "vscode": {
     "languageId": "plaintext"
    }
   },
   "source": [
    "## 제한사항  \n",
    "3 ≤ name의 길이 = yearning의 길이≤ 100  \n",
    "    3 ≤ name의 원소의 길이 ≤ 7  \n",
    "    name의 원소들은 알파벳 소문자로만 이루어져 있습니다.  \n",
    "    name에는 중복된 값이 들어가지 않습니다.  \n",
    "    1 ≤ yearning[i] ≤ 100  \n",
    "    yearning[i]는 i번째 사람의 그리움 점수입니다.  \n",
    "3 ≤ photo의 길이 ≤ 100  \n",
    "    1 ≤ photo[i]의 길이 ≤ 100  \n",
    "    3 ≤ photo[i]의 원소(문자열)의 길이 ≤ 7  \n",
    "    photo[i]의 원소들은 알파벳 소문자로만 이루어져 있습니다.  \n",
    "    photo[i]의 원소들은 중복된 값이 들어가지 않습니다.  "
   ]
  },
  {
   "cell_type": "code",
   "execution_count": 62,
   "metadata": {},
   "outputs": [],
   "source": [
    "name1 = [\"may\", \"kein\", \"kain\", \"radi\"]\n",
    "name2 = [\"kali\", \"mari\", \"don\"]\n",
    "name3 = [\"may\", \"kein\", \"kain\", \"radi\"]\n",
    "\n",
    "yearning1 = [5, 10, 1, 3]\n",
    "yearning2 = [11, 1, 55]\n",
    "yearning3 = [5, 10, 1, 3]\n",
    "\n",
    "photo1 = [[\"may\", \"kein\", \"kain\", \"radi\"],[\"may\", \"kein\", \"brin\", \"deny\"], [\"kon\", \"kain\", \"may\", \"coni\"]]\n",
    "photo2 = [[\"kali\", \"mari\", \"don\"], [\"pony\", \"tom\", \"teddy\"], [\"con\", \"mona\", \"don\"]]\n",
    "photo3 = [[\"may\"],[\"kein\", \"deny\", \"may\"], [\"kon\", \"coni\"]]\n",
    "\n"
   ]
  },
  {
   "cell_type": "code",
   "execution_count": 76,
   "metadata": {},
   "outputs": [
    {
     "name": "stdout",
     "output_type": "stream",
     "text": [
      "[19, 15, 6]\n",
      "[67, 0, 55]\n",
      "[5, 15, 0]\n"
     ]
    }
   ],
   "source": [
    "def solution(name, yearning, photo):\n",
    "# 변수 생성\n",
    "    answer = []\n",
    "    score = {}\n",
    "\n",
    "# {name : yearning}인 dict를 만들어야 Time complexity 가 낮아질 것 같음\n",
    "    for i in range(len(name)):\n",
    "        score[name[i]] = yearning[i]\n",
    "\n",
    "# photo 내부의 값을 추억 점수로 변경\n",
    "    for i in range(len(photo)):\n",
    "        for j in range(len(photo[i])):\n",
    "            photo[i][j] = score.get(photo[i][j],0) # get 함수를 써서 값이 없으면 0을 넣어줌\n",
    "\n",
    "# answer에 sum(photo) 값을 넣어줌으로서 결과 도출\n",
    "    for i in photo:\n",
    "        answer.append(sum(i)) # photo의 sum 값을 추가\n",
    "\n",
    "    return answer\n",
    "\n",
    "name1 = [\"may\", \"kein\", \"kain\", \"radi\"]\n",
    "name2 = [\"kali\", \"mari\", \"don\"]\n",
    "name3 = [\"may\", \"kein\", \"kain\", \"radi\"]\n",
    "\n",
    "yearning1 = [5, 10, 1, 3]\n",
    "yearning2 = [11, 1, 55]\n",
    "yearning3 = [5, 10, 1, 3]\n",
    "\n",
    "photo1 = [[\"may\", \"kein\", \"kain\", \"radi\"],[\"may\", \"kein\", \"brin\", \"deny\"], [\"kon\", \"kain\", \"may\", \"coni\"]]\n",
    "photo2 = [[\"kali\", \"mari\", \"don\"], [\"pony\", \"tom\", \"teddy\"], [\"con\", \"mona\", \"don\"]]\n",
    "photo3 = [[\"may\"],[\"kein\", \"deny\", \"may\"], [\"kon\", \"coni\"]]\n",
    "\n",
    "print(solution(name1,yearning1,photo1))\n",
    "print(solution(name2,yearning2,photo2))\n",
    "print(solution(name3,yearning3,photo3))"
   ]
  },
  {
   "cell_type": "markdown",
   "metadata": {},
   "source": [
    "### 채점 결과\n",
    "걸린 시간 = 2시간\n",
    "코드 결과값 일치 = 통과  \n",
    "테스트 통과 = 통과 (시간 초과로 인한 몇몇 실패)\n",
    "\n",
    "오늘 날짜 : 24.12.20\n",
    "\n",
    "### Feedback\n",
    ".get 함수의 좀더 깊은 공부를 할 수 있었다.\n",
    ".append 함수 사용이 익숙치 않았는데 더 많은 문제를 풀면서 익숙해 져야겠다.\n",
    "dict 가 확실히 속도는 빠르다. dict를 이용하는 방법을 최우선 적으로 생각하고, 정 답이 없다고 생각되면 list로 풀이 해보는 것을 생각해 봐야겠다.\n",
    "\n",
    "# 해당 코드는 프로그래머스에 나온 코드 테스트를 이용한 것임을 알림\n",
    "https://school.programmers.co.kr/learn/courses/30/lessons/176963"
   ]
  },
  {
   "cell_type": "markdown",
   "metadata": {},
   "source": []
  }
 ],
 "metadata": {
  "kernelspec": {
   "display_name": "Fastcampus",
   "language": "python",
   "name": "fastcampus"
  },
  "language_info": {
   "codemirror_mode": {
    "name": "ipython",
    "version": 3
   },
   "file_extension": ".py",
   "mimetype": "text/x-python",
   "name": "python",
   "nbconvert_exporter": "python",
   "pygments_lexer": "ipython3",
   "version": "3.11.9"
  }
 },
 "nbformat": 4,
 "nbformat_minor": 2
}
