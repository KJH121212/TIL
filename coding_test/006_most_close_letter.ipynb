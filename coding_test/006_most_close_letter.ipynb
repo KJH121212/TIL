{
 "cells": [
  {
   "cell_type": "markdown",
   "metadata": {},
   "source": [
    "# 가장 가까운 글자\n",
    "\n",
    "## 문제 설명\n",
    "문자열 s가 주어졌을 때, s의 각 위치마다 자신보다 앞에 나왔으면서, 자신과 가장 가까운 곳에 있는 같은 글자가 어디 있는지 알고 싶습니다.  \n",
    "예를 들어, s=\"banana\"라고 할 때,  각 글자들을 왼쪽부터 오른쪽으로 읽어 나가면서 다음과 같이 진행할 수 있습니다.\n",
    "\n",
    "- b는 처음 나왔기 때문에 자신의 앞에 같은 글자가 없습니다. 이는 -1로 표현합니다.\n",
    "- a는 처음 나왔기 때문에 자신의 앞에 같은 글자가 없습니다. 이는 -1로 표현합니다.\n",
    "- n은 처음 나왔기 때문에 자신의 앞에 같은 글자가 없습니다. 이는 -1로 표현합니다.\n",
    "- a는 자신보다 두 칸 앞에 a가 있습니다. 이는 2로 표현합니다.\n",
    "- n도 자신보다 두 칸 앞에 n이 있습니다. 이는 2로 표현합니다.\n",
    "- a는 자신보다 두 칸, 네 칸 앞에 a가 있습니다. 이 중 가까운 것은 두 칸 앞이고, 이는 2로 표현합니다.\n",
    "\n",
    "따라서 최종 결과물은 [-1, -1, -1, 2, 2, 2]가 됩니다.  \n",
    "문자열 s이 주어질 때, 위와 같이 정의된 연산을 수행하는 함수 solution을 완성해주세요.\n",
    "\n",
    "## 제한사항\n",
    "1 ≤ s의 길이 ≤ 10,000  \n",
    "- s은 영어 소문자로만 이루어져 있습니다."
   ]
  },
  {
   "cell_type": "code",
   "execution_count": 1,
   "metadata": {},
   "outputs": [
    {
     "name": "stdout",
     "output_type": "stream",
     "text": [
      "[-1, -1, -1, 2, 2, 2]\n"
     ]
    }
   ],
   "source": [
    "def solution(s):\n",
    "    # 가장 가까운 같은 글자의 위치를 저장할 리스트\n",
    "    result = []\n",
    "    # 각 문자가 마지막으로 나타난 위치를 저장할 딕셔너리\n",
    "    last_seen = {}\n",
    "\n",
    "    for i, char in enumerate(s):\n",
    "        if char in last_seen:\n",
    "            # 이전에 등장한 위치가 있다면 현재 위치와의 거리 계산\n",
    "            result.append(i - last_seen[char])\n",
    "        else:\n",
    "            # 이전에 등장하지 않았다면 -1 추가\n",
    "            result.append(-1)\n",
    "        # 현재 문자의 위치를 마지막으로 본 위치로 갱신\n",
    "        last_seen[char] = i\n",
    "\n",
    "    return result\n",
    "\n",
    "print(solution(\"banana\"))"
   ]
  },
  {
   "cell_type": "markdown",
   "metadata": {},
   "source": [
    "## 채점 결과\n",
    "걸린 시간 = 30분  \n",
    "코드 결과값 일치 = 통과    \n",
    "테스트 통과 = 통과   \n",
    "오늘 날짜 : 24.12.24\n",
    "\n",
    "## Feedback\n"
   ]
  },
  {
   "cell_type": "markdown",
   "metadata": {},
   "source": [
    "# 해당 코드는 프로그래머스에 나온 코드 테스트를 이용한 것임을 알림\n",
    "https://school.programmers.co.kr/learn/courses/30/lessons/178871"
   ]
  }
 ],
 "metadata": {
  "kernelspec": {
   "display_name": "Fastcampus",
   "language": "python",
   "name": "fastcampus"
  },
  "language_info": {
   "codemirror_mode": {
    "name": "ipython",
    "version": 3
   },
   "file_extension": ".py",
   "mimetype": "text/x-python",
   "name": "python",
   "nbconvert_exporter": "python",
   "pygments_lexer": "ipython3",
   "version": "3.11.9"
  }
 },
 "nbformat": 4,
 "nbformat_minor": 2
}
